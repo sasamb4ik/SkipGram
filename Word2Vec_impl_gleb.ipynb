{
  "cells": [
    {
      "cell_type": "markdown",
      "id": "351fc9fe-0adb-47ef-8fcf-6df8c6f64eb5",
      "metadata": {
        "id": "351fc9fe-0adb-47ef-8fcf-6df8c6f64eb5"
      },
      "source": [
        "# ИППИ РАН. Докладчик: Кмито Глеб Леонидович.\n",
        "\n",
        "* ФПМИ МФТИ, 2 курс (ФИВТ)\n",
        "* Telegram: [@sasamb4ik](https://t.me/sasamb4ik)\n",
        "* Почта: kmito.gl@phystech.edu\n",
        "\n",
        "# Задача 21. Word2Vec"
      ]
    },
    {
      "cell_type": "code",
      "source": [
        "from google.colab import drive\n",
        "drive.mount('/content/drive')"
      ],
      "metadata": {
        "colab": {
          "base_uri": "https://localhost:8080/"
        },
        "id": "LQwt7Y68y8hf",
        "outputId": "a1e0edbc-3376-4b2d-bc8f-8f20539acaa5"
      },
      "id": "LQwt7Y68y8hf",
      "execution_count": 63,
      "outputs": [
        {
          "output_type": "stream",
          "name": "stdout",
          "text": [
            "Drive already mounted at /content/drive; to attempt to forcibly remount, call drive.mount(\"/content/drive\", force_remount=True).\n"
          ]
        }
      ]
    },
    {
      "cell_type": "code",
      "source": [
        "!pip install torchinfo"
      ],
      "metadata": {
        "colab": {
          "base_uri": "https://localhost:8080/"
        },
        "id": "Z3dPsbt-_ldp",
        "outputId": "6dca82c3-87b1-4d3a-a29e-d14caa377dad"
      },
      "id": "Z3dPsbt-_ldp",
      "execution_count": 3,
      "outputs": [
        {
          "output_type": "stream",
          "name": "stdout",
          "text": [
            "Collecting torchinfo\n",
            "  Downloading torchinfo-1.8.0-py3-none-any.whl (23 kB)\n",
            "Installing collected packages: torchinfo\n",
            "Successfully installed torchinfo-1.8.0\n"
          ]
        }
      ]
    },
    {
      "cell_type": "code",
      "source": [
        "from torchinfo import summary\n",
        "import torch\n",
        "from torch.utils.data import DataLoader, Dataset\n",
        "from torch.nn.utils.rnn import pad_sequence\n",
        "\n",
        "from sklearn.model_selection import train_test_split\n",
        "from sklearn.metrics.pairwise import cosine_distances\n",
        "from collections import Counter, OrderedDict\n",
        "\n",
        "import torchtext\n",
        "from torchtext import data, datasets\n",
        "from torchtext.data.utils import get_tokenizer\n",
        "\n",
        "import tqdm\n",
        "from tqdm.keras import TqdmCallback\n",
        "import tensorflow as tf"
      ],
      "metadata": {
        "id": "hHNThecs_k85"
      },
      "id": "hHNThecs_k85",
      "execution_count": 64,
      "outputs": []
    },
    {
      "cell_type": "code",
      "source": [
        "import re\n",
        "import pandas as pd\n",
        "import numpy as np\n",
        "import matplotlib.pyplot as plt\n",
        "import seaborn as sns\n",
        "import random\n",
        "import math\n",
        "\n",
        "import nltk\n",
        "nltk.download('stopwords')\n",
        "nltk.download('punkt')\n",
        "\n",
        "import string\n",
        "from string import punctuation\n",
        "from nltk.corpus import stopwords, udhr\n",
        "from nltk.tokenize import word_tokenize"
      ],
      "metadata": {
        "colab": {
          "base_uri": "https://localhost:8080/"
        },
        "id": "UQgJdbwCzHnI",
        "outputId": "70f73cac-010b-46c3-e678-5de9bd072018"
      },
      "id": "UQgJdbwCzHnI",
      "execution_count": 65,
      "outputs": [
        {
          "output_type": "stream",
          "name": "stderr",
          "text": [
            "[nltk_data] Downloading package stopwords to /root/nltk_data...\n",
            "[nltk_data]   Package stopwords is already up-to-date!\n",
            "[nltk_data] Downloading package punkt to /root/nltk_data...\n",
            "[nltk_data]   Package punkt is already up-to-date!\n"
          ]
        }
      ]
    },
    {
      "cell_type": "code",
      "source": [
        "import gensim\n",
        "from tqdm import tqdm\n",
        "from collections import Counter"
      ],
      "metadata": {
        "id": "EII0V9IZrerm"
      },
      "id": "EII0V9IZrerm",
      "execution_count": 75,
      "outputs": []
    },
    {
      "cell_type": "markdown",
      "source": [
        "# Сначала начнём делать **предобработку**:\n",
        "\n",
        "\n",
        "*   Почистим текст от возможных загрязнений с помощью `regex`\n",
        "*   Отберём слова, основываясь на идее `Frequent Subsampling` из статьи\n",
        "*   Токенизируем предложения\n",
        "*   Перед токенизацией выкинем стоп-слова (в том числе пунктуацию), а также предложения длины $\\leq$ 3, они вряд ли несут что-то полезное\n",
        "\n",
        "\n"
      ],
      "metadata": {
        "id": "717NxzEK-a0E"
      },
      "id": "717NxzEK-a0E"
    },
    {
      "cell_type": "code",
      "source": [
        "war_and_peace = open('/content/drive/MyDrive/Colab_Notebooks/WarAndPeace.txt').read().split('\\n')"
      ],
      "metadata": {
        "id": "vlqeLJEFIj3B"
      },
      "id": "vlqeLJEFIj3B",
      "execution_count": 7,
      "outputs": []
    },
    {
      "cell_type": "code",
      "source": [
        "def preprocess(text):\n",
        "    tokens = re.sub('#+', ' ', text.lower()).split()\n",
        "    tokens = [token.strip(punctuation) for token in tokens]\n",
        "    tokens = [token for token in tokens if token]\n",
        "    return tokens"
      ],
      "metadata": {
        "id": "V2iNSxavIrDm"
      },
      "id": "V2iNSxavIrDm",
      "execution_count": 8,
      "outputs": []
    },
    {
      "cell_type": "code",
      "source": [
        "def frequent_subsampling(tokens, threshold=1e-5):\n",
        "    '''\n",
        "      Frequent Subsampling идея из статьи Томаса Миколова\n",
        "    '''\n",
        "    total_words = len(tokens)\n",
        "    counts = Counter(tokens)\n",
        "    subsampled_tokens = []\n",
        "    for token in tokens:\n",
        "        freq = counts[token] / total_words\n",
        "        prob_retain = 1 - math.sqrt(threshold / freq)\n",
        "        if random.random() < prob_retain:\n",
        "            subsampled_tokens.append(token)\n",
        "    return subsampled_tokens"
      ],
      "metadata": {
        "id": "Owpnc1dmUPmb"
      },
      "id": "Owpnc1dmUPmb",
      "execution_count": 9,
      "outputs": []
    },
    {
      "cell_type": "code",
      "source": [
        "nltk.download('stopwords')\n",
        "nltk.download('udhr')\n",
        "\n",
        "vocab = Counter()\n",
        "\n",
        "for text in war_and_peace:\n",
        "    vocab.update(preprocess(text))\n",
        "\n",
        "subsampling_param = 1e-5\n",
        "\n",
        "total_words = sum(vocab.values())\n",
        "\n",
        "filtered_vocab = set()\n",
        "\n",
        "russian_stop_words = set(stopwords.words('russian'))\n",
        "\n",
        "nltk_punctuation = set([char for lang in udhr.fileids() for char in udhr.raw(lang) if char in string.punctuation])\n",
        "\n",
        "for word, count in vocab.items():\n",
        "    if word not in nltk_punctuation:\n",
        "        if word not in russian_stop_words and len(word) >= 3:\n",
        "            subsampled_tokens = frequent_subsampling([word]*count, threshold=subsampling_param)\n",
        "            filtered_vocab.update(subsampled_tokens)"
      ],
      "metadata": {
        "colab": {
          "base_uri": "https://localhost:8080/"
        },
        "id": "ybz0vyNZSdZO",
        "outputId": "ea3b61af-3d14-4653-a862-ea7aea5fa9dd"
      },
      "id": "ybz0vyNZSdZO",
      "execution_count": 10,
      "outputs": [
        {
          "output_type": "stream",
          "name": "stderr",
          "text": [
            "[nltk_data] Downloading package stopwords to /root/nltk_data...\n",
            "[nltk_data]   Package stopwords is already up-to-date!\n",
            "[nltk_data] Downloading package udhr to /root/nltk_data...\n",
            "[nltk_data]   Unzipping corpora/udhr.zip.\n"
          ]
        }
      ]
    },
    {
      "cell_type": "code",
      "source": [
        "len(filtered_vocab)"
      ],
      "metadata": {
        "colab": {
          "base_uri": "https://localhost:8080/"
        },
        "id": "EuR7yGUeSWJm",
        "outputId": "e8db6e46-4609-4dd4-d17a-e075e35ec9d3"
      },
      "id": "EuR7yGUeSWJm",
      "execution_count": 11,
      "outputs": [
        {
          "output_type": "execute_result",
          "data": {
            "text/plain": [
              "46360"
            ]
          },
          "metadata": {},
          "execution_count": 11
        }
      ]
    },
    {
      "cell_type": "code",
      "source": [
        "word2id = {}\n",
        "\n",
        "for word in filtered_vocab:\n",
        "    word2id[word] = len(word2id)\n",
        "\n",
        "id2word = {i:word for word, i in word2id.items()}"
      ],
      "metadata": {
        "id": "NxVbF-IdNE8p"
      },
      "id": "NxVbF-IdNE8p",
      "execution_count": 12,
      "outputs": []
    },
    {
      "cell_type": "code",
      "source": [
        "token_sentences = []\n",
        "\n",
        "for text in war_and_peace:\n",
        "    tokens = preprocess(text)\n",
        "    if not tokens:\n",
        "        continue\n",
        "    ids = [word2id[token] for token in tokens if token in word2id]\n",
        "    if len(ids) >= 3:\n",
        "        token_sentences.append(ids)"
      ],
      "metadata": {
        "id": "GKfkpbnhNJ2I"
      },
      "id": "GKfkpbnhNJ2I",
      "execution_count": 13,
      "outputs": []
    },
    {
      "cell_type": "code",
      "source": [
        "len(token_sentences)"
      ],
      "metadata": {
        "colab": {
          "base_uri": "https://localhost:8080/"
        },
        "id": "_6ugjLriNOv3",
        "outputId": "8ea0aebc-7dd5-4c64-f47c-278081837618"
      },
      "id": "_6ugjLriNOv3",
      "execution_count": 14,
      "outputs": [
        {
          "output_type": "execute_result",
          "data": {
            "text/plain": [
              "10294"
            ]
          },
          "metadata": {},
          "execution_count": 14
        }
      ]
    },
    {
      "cell_type": "markdown",
      "source": [
        "# Разобьём на train & test"
      ],
      "metadata": {
        "id": "7qfLzn_MMfo_"
      },
      "id": "7qfLzn_MMfo_"
    },
    {
      "cell_type": "code",
      "source": [
        "X = []\n",
        "y = []\n",
        "\n",
        "window = 5\n",
        "for sent in token_sentences:\n",
        "  for i in range(len(sent)-1):\n",
        "    word = sent[i] # таргет-слово\n",
        "    context = sent[max(0, i-window):i] + sent[i+1:i+window]  # контекстные слова\n",
        "    # в начале и в конце текста окно будет\n",
        "    # только с одной стороны, но это ничего не сломает\n",
        "    for context_word in context:\n",
        "      X.append(word)\n",
        "      y.append(context_word)"
      ],
      "metadata": {
        "id": "bw9nw0OOG4xN"
      },
      "id": "bw9nw0OOG4xN",
      "execution_count": 15,
      "outputs": []
    },
    {
      "cell_type": "code",
      "source": [
        "len(X), len(y)"
      ],
      "metadata": {
        "colab": {
          "base_uri": "https://localhost:8080/"
        },
        "id": "GiLLPbY6Of-v",
        "outputId": "4d3e38fc-bac9-4e20-ab9f-1cccb993fc43"
      },
      "id": "GiLLPbY6Of-v",
      "execution_count": 16,
      "outputs": [
        {
          "output_type": "execute_result",
          "data": {
            "text/plain": [
              "(2176083, 2176083)"
            ]
          },
          "metadata": {},
          "execution_count": 16
        }
      ]
    },
    {
      "cell_type": "code",
      "source": [
        "X_train, X_valid, y_train, y_valid = train_test_split(X, y, test_size=0.05)"
      ],
      "metadata": {
        "id": "tVTneNFdHRa0"
      },
      "id": "tVTneNFdHRa0",
      "execution_count": 17,
      "outputs": []
    },
    {
      "cell_type": "markdown",
      "source": [
        "# Cоздадим **обычную** нейронную сеть с **наивным** SoftMax\n",
        "### `emb_size = 40`"
      ],
      "metadata": {
        "id": "mARoCTMVM1Cv"
      },
      "id": "mARoCTMVM1Cv"
    },
    {
      "cell_type": "code",
      "source": [
        "# инициализируем модель\n",
        "naive_model = tf.keras.Sequential()\n",
        "\n",
        "# первым добавляем эмбединг слой, каждому слову (его индексу) сопоставит вектор заданой размерности\n",
        "naive_model.add(tf.keras.layers.Embedding(input_dim=len(word2id),\n",
        "                                    input_length=1,\n",
        "                                    output_dim=40)) # желаемый размер эмбединга\n",
        "\n",
        "# на выходе из Embedding мы получим массив размерности (1, 100), уберём единичку\n",
        "naive_model.add(tf.keras.layers.Flatten())\n",
        "\n",
        "naive_model.add(tf.keras.layers.Dense(len(word2id),\n",
        "                                activation='softmax'))\n",
        "\n",
        "# стандартный лосс для классификации - это categorical_crossentropy\n",
        "# У меня стоит sparse_categorical_crossentropy тк подаем индексы, а по умолчанию нужно подавать\n",
        "# one-hot векторы или вероятности\n",
        "\n",
        "# По умолчанию можно ставить adam и менять только learning_rate\n",
        "\n",
        "naive_model.compile(optimizer=tf.keras.optimizers.Adam(),\n",
        "              loss='sparse_categorical_crossentropy')"
      ],
      "metadata": {
        "id": "3R2yH5axM_Vx"
      },
      "id": "3R2yH5axM_Vx",
      "execution_count": 20,
      "outputs": []
    },
    {
      "cell_type": "code",
      "source": [
        "naive_model.summary()"
      ],
      "metadata": {
        "colab": {
          "base_uri": "https://localhost:8080/"
        },
        "id": "GAwuv4LLO1id",
        "outputId": "55d42e4c-f432-41fe-8804-8b269b2519c4"
      },
      "id": "GAwuv4LLO1id",
      "execution_count": 21,
      "outputs": [
        {
          "output_type": "stream",
          "name": "stdout",
          "text": [
            "Model: \"sequential_1\"\n",
            "_________________________________________________________________\n",
            " Layer (type)                Output Shape              Param #   \n",
            "=================================================================\n",
            " embedding_1 (Embedding)     (None, 1, 40)             1854400   \n",
            "                                                                 \n",
            " flatten_1 (Flatten)         (None, 40)                0         \n",
            "                                                                 \n",
            " dense_1 (Dense)             (None, 46360)             1900760   \n",
            "                                                                 \n",
            "=================================================================\n",
            "Total params: 3755160 (14.32 MB)\n",
            "Trainable params: 3755160 (14.32 MB)\n",
            "Non-trainable params: 0 (0.00 Byte)\n",
            "_________________________________________________________________\n"
          ]
        }
      ]
    },
    {
      "cell_type": "code",
      "source": [
        "# обучение\n",
        "# callback = TqdmCallback - параметр, чтобы был виден прогресс обучения\n",
        "naive_model.fit(X_train, y_train,\n",
        "          validation_data=(X_valid, y_valid),\n",
        "          batch_size=512, # по классике, степень двойки\n",
        "          epochs=10,\n",
        "          callbacks=[TqdmCallback(verbose=1)])"
      ],
      "metadata": {
        "colab": {
          "base_uri": "https://localhost:8080/",
          "height": 413,
          "referenced_widgets": [
            "652b50bdf32c428bb6d413cbf852c60a",
            "34d352a8fdaf4fb097790f66e885a0ea",
            "e94082875c1147a19cf659fbaf26529f",
            "99601997ed4847569f30c23aa05d5d69",
            "f6b1250eb35942aca99e592d1bd6f029",
            "a45663edb4dd4bc4b43aa7cd4bfceac8",
            "97a1976ded0c4f1fbc26cb125539e2bd",
            "b1177339d3b34d5c939865a45b8eef2a",
            "07b8ddfd12d441b586c498140bff5df9",
            "6075d7027fde4e119e85457df2d26fd7",
            "2c0792b3f83f4ff38a052eecacb0add6",
            "6cd5201e99ed412a9e66a0b192ecbd22",
            "3fb305dd4a58417ab688f4aab150e6c8",
            "ecc4993669344d1da2d28126fa8bdbc4",
            "4b7016fa151844acb3cb73d5c78397ab",
            "bd02ac1022fc4ddbb5305d652fd63313",
            "1d36acfde2b6442887dc4d3c1340e45f",
            "0f094e42639c40769462cc4e002ce79e",
            "fd839cde34994baaa1fb37faddaca929",
            "e9a6fcbe6b4648f09b4816e63c39af08",
            "63dcf6a47b3544feba4d0661fcb5d4cb",
            "a4e7c791005a402089d36885de547c65"
          ]
        },
        "id": "YNyAR2qRO6QL",
        "outputId": "e285f15d-d110-4698-d9ee-c0577905f018"
      },
      "id": "YNyAR2qRO6QL",
      "execution_count": 23,
      "outputs": [
        {
          "output_type": "display_data",
          "data": {
            "text/plain": [
              "0epoch [00:00, ?epoch/s]"
            ],
            "application/vnd.jupyter.widget-view+json": {
              "version_major": 2,
              "version_minor": 0,
              "model_id": "652b50bdf32c428bb6d413cbf852c60a"
            }
          },
          "metadata": {}
        },
        {
          "output_type": "display_data",
          "data": {
            "text/plain": [
              "0batch [00:00, ?batch/s]"
            ],
            "application/vnd.jupyter.widget-view+json": {
              "version_major": 2,
              "version_minor": 0,
              "model_id": "6cd5201e99ed412a9e66a0b192ecbd22"
            }
          },
          "metadata": {}
        },
        {
          "output_type": "stream",
          "name": "stdout",
          "text": [
            "Epoch 1/10\n",
            "4038/4038 [==============================] - 54s 13ms/step - loss: 9.1562 - val_loss: 9.1023\n",
            "Epoch 2/10\n",
            "4038/4038 [==============================] - 52s 13ms/step - loss: 8.9742 - val_loss: 8.9498\n",
            "Epoch 3/10\n",
            "4038/4038 [==============================] - 54s 13ms/step - loss: 8.7777 - val_loss: 8.8089\n",
            "Epoch 4/10\n",
            "4038/4038 [==============================] - 54s 13ms/step - loss: 8.5758 - val_loss: 8.6906\n",
            "Epoch 5/10\n",
            "4038/4038 [==============================] - 51s 13ms/step - loss: 8.3775 - val_loss: 8.5917\n",
            "Epoch 6/10\n",
            "4038/4038 [==============================] - 54s 13ms/step - loss: 8.1901 - val_loss: 8.5093\n",
            "Epoch 7/10\n",
            "4038/4038 [==============================] - 52s 13ms/step - loss: 8.0191 - val_loss: 8.4425\n",
            "Epoch 8/10\n",
            "4038/4038 [==============================] - 53s 13ms/step - loss: 7.8679 - val_loss: 8.3888\n",
            "Epoch 9/10\n",
            "4038/4038 [==============================] - 52s 13ms/step - loss: 7.7377 - val_loss: 8.3481\n",
            "Epoch 10/10\n",
            "4038/4038 [==============================] - 56s 14ms/step - loss: 7.6284 - val_loss: 8.3193\n"
          ]
        },
        {
          "output_type": "execute_result",
          "data": {
            "text/plain": [
              "<keras.src.callbacks.History at 0x7812007457b0>"
            ]
          },
          "metadata": {},
          "execution_count": 23
        }
      ]
    },
    {
      "cell_type": "markdown",
      "source": [
        "# Посмотрим на поведение функции потерь в зависимости от числа эпох"
      ],
      "metadata": {
        "id": "j6Uj7Kf5SMxL"
      },
      "id": "j6Uj7Kf5SMxL"
    },
    {
      "cell_type": "code",
      "source": [
        "train_loss = naive_model.history.history['loss']\n",
        "val_loss = naive_model.history.history['val_loss']\n",
        "\n",
        "epochs = range(1, len(train_loss) + 1)\n",
        "\n",
        "plt.figure(figsize=(10, 6))\n",
        "plt.plot(epochs, train_loss, 'b-', label='Training loss')\n",
        "plt.plot(epochs, val_loss, 'r-', label='Validation loss')\n",
        "plt.title('Функции потерь в з-ти от числа эпох')\n",
        "plt.xlabel('Эпохи')\n",
        "plt.ylabel('Значение ф-ии потерь')\n",
        "plt.legend()\n",
        "plt.grid(True)\n",
        "plt.show()"
      ],
      "metadata": {
        "colab": {
          "base_uri": "https://localhost:8080/",
          "height": 564
        },
        "id": "PXo5PJFeRkaJ",
        "outputId": "c26c24d7-4243-45fe-8b2f-9b4938839042"
      },
      "id": "PXo5PJFeRkaJ",
      "execution_count": 24,
      "outputs": [
        {
          "output_type": "display_data",
          "data": {
            "text/plain": [
              "<Figure size 1000x600 with 1 Axes>"
            ],
            "image/png": "[encoded data removed]"
          },
          "metadata": {}
        }
      ]
    },
    {
      "cell_type": "code",
      "source": [
        "# я взял 5 эпох, чтобы быстрее обучилось\n",
        "# ещё увеличим batch_size до 1024\n",
        "naive_model.fit(X_train, y_train,\n",
        "          validation_data=(X_valid, y_valid),\n",
        "          batch_size=1024,\n",
        "          epochs=5,\n",
        "          callbacks=[TqdmCallback(verbose=1)])"
      ],
      "metadata": {
        "colab": {
          "base_uri": "https://localhost:8080/",
          "height": 240,
          "referenced_widgets": [
            "0e09ffef8a6b4ff39ce773a498556f54",
            "a89b7caf53f6472abc1ab8994714be5e",
            "c9de626c14ff4821ae5643a35eee97a2",
            "7db9e31270c44194935cd972a65f1ded",
            "466d42da5d784b1998955ee01693aa76",
            "d7c3f687788d4273980c6d8e283414e9",
            "3fd5a6c76f604d37a1cdef0457076c56",
            "becb15f5dc9542c7b12248efe943866e",
            "031a1687caac4da7bc138c2f6676a646",
            "179043a14a4048aab5a84e25664d7b2b",
            "b1aeb3e3ea694a0eaef6cc1c389f76fd",
            "49e6767a29b24e9fbfa0616ea65e604e",
            "6a40f80c96fb4d1a8b5e51af62b69205",
            "92450e21b54e4fa883cfba3f52eb1749",
            "3555a6c7117e49ad8e13b44788fd6e4e",
            "496b209b595947d09456cb7d6375dd13",
            "c79a18bb4d1d4c0eb19089c15b005f27",
            "ea9f1b43713e4435a9ec8e4542608aa1",
            "fdc1306d36eb47249c8844675c53bc35",
            "defc90dba74f42ef8d96b55253764091",
            "1984edd21c084f5db113a842f46af05d",
            "64b288b9391344d18d6b6a6123865425"
          ]
        },
        "id": "GH2dFKiyXLBP",
        "outputId": "5d8c1ff2-8762-4f9c-c1ef-392ac1d33951"
      },
      "id": "GH2dFKiyXLBP",
      "execution_count": 25,
      "outputs": [
        {
          "output_type": "display_data",
          "data": {
            "text/plain": [
              "0epoch [00:00, ?epoch/s]"
            ],
            "application/vnd.jupyter.widget-view+json": {
              "version_major": 2,
              "version_minor": 0,
              "model_id": "0e09ffef8a6b4ff39ce773a498556f54"
            }
          },
          "metadata": {}
        },
        {
          "output_type": "display_data",
          "data": {
            "text/plain": [
              "0batch [00:00, ?batch/s]"
            ],
            "application/vnd.jupyter.widget-view+json": {
              "version_major": 2,
              "version_minor": 0,
              "model_id": "49e6767a29b24e9fbfa0616ea65e604e"
            }
          },
          "metadata": {}
        },
        {
          "output_type": "stream",
          "name": "stdout",
          "text": [
            "Epoch 1/5\n",
            "2019/2019 [==============================] - 61s 30ms/step - loss: 7.5107 - val_loss: 8.3027\n",
            "Epoch 2/5\n",
            "2019/2019 [==============================] - 48s 24ms/step - loss: 7.4601 - val_loss: 8.2929\n",
            "Epoch 3/5\n",
            "2019/2019 [==============================] - 46s 23ms/step - loss: 7.4086 - val_loss: 8.2873\n",
            "Epoch 4/5\n",
            "2019/2019 [==============================] - 46s 23ms/step - loss: 7.3631 - val_loss: 8.2873\n",
            "Epoch 5/5\n",
            "2019/2019 [==============================] - 45s 22ms/step - loss: 7.3245 - val_loss: 8.2921\n"
          ]
        },
        {
          "output_type": "execute_result",
          "data": {
            "text/plain": [
              "<keras.src.callbacks.History at 0x781200513310>"
            ]
          },
          "metadata": {},
          "execution_count": 25
        }
      ]
    },
    {
      "cell_type": "markdown",
      "source": [
        "# Посмотрим теперь на получившиеся векторные представления слов"
      ],
      "metadata": {
        "id": "2dFlsEtvUkwi"
      },
      "id": "2dFlsEtvUkwi"
    },
    {
      "cell_type": "code",
      "source": [
        "naive_model.layers"
      ],
      "metadata": {
        "colab": {
          "base_uri": "https://localhost:8080/"
        },
        "id": "apUBL_hMVdhM",
        "outputId": "db48dc40-13de-4d03-e4da-ed3381accf2a"
      },
      "id": "apUBL_hMVdhM",
      "execution_count": 26,
      "outputs": [
        {
          "output_type": "execute_result",
          "data": {
            "text/plain": [
              "[<keras.src.layers.core.embedding.Embedding at 0x78135c82fca0>,\n",
              " <keras.src.layers.reshaping.flatten.Flatten at 0x7812049611e0>,\n",
              " <keras.src.layers.core.dense.Dense at 0x7812035cd330>]"
            ]
          },
          "metadata": {},
          "execution_count": 26
        }
      ]
    },
    {
      "cell_type": "code",
      "source": [
        "embeddings_1 = naive_model.layers[0].get_weights()[0]\n",
        "embeddings_2 = naive_model.layers[2].get_weights()[0].T"
      ],
      "metadata": {
        "id": "flbEHbwlVsHF"
      },
      "id": "flbEHbwlVsHF",
      "execution_count": 27,
      "outputs": []
    },
    {
      "cell_type": "code",
      "source": [
        "embeddings = np.mean([embeddings_1, embeddings_2], axis=0)"
      ],
      "metadata": {
        "id": "kK7oiL7OVwEQ"
      },
      "id": "kK7oiL7OVwEQ",
      "execution_count": 28,
      "outputs": []
    },
    {
      "cell_type": "code",
      "source": [
        "def most_similar(word, embeddings):\n",
        "    similar = [id2word[i] for i in\n",
        "               cosine_distances(embeddings[word2id[word]].reshape(1, -1), embeddings).argsort()[0][:5]]\n",
        "    return similar"
      ],
      "metadata": {
        "id": "lMJc5FzvV4gF"
      },
      "id": "lMJc5FzvV4gF",
      "execution_count": 29,
      "outputs": []
    },
    {
      "cell_type": "code",
      "source": [
        "most_similar(\"спали\", embeddings)"
      ],
      "metadata": {
        "colab": {
          "base_uri": "https://localhost:8080/"
        },
        "id": "enYG1ijrWPdN",
        "outputId": "b2cf0a1a-aa33-4f4c-be34-7e912200678a"
      },
      "id": "enYG1ijrWPdN",
      "execution_count": 35,
      "outputs": [
        {
          "output_type": "execute_result",
          "data": {
            "text/plain": [
              "['спали', 'фуражками', 'барышней', 'сенцы', 'выметавшие']"
            ]
          },
          "metadata": {},
          "execution_count": 35
        }
      ]
    },
    {
      "cell_type": "code",
      "source": [
        "most_similar(\"турок\", embeddings)"
      ],
      "metadata": {
        "colab": {
          "base_uri": "https://localhost:8080/"
        },
        "id": "PWP4UHl5Yu1F",
        "outputId": "46ba64bb-f139-481b-b045-b409cce94a75"
      },
      "id": "PWP4UHl5Yu1F",
      "execution_count": 36,
      "outputs": [
        {
          "output_type": "execute_result",
          "data": {
            "text/plain": [
              "['турок', 'пойдет', 'ударить', 'обязано', 'позади']"
            ]
          },
          "metadata": {},
          "execution_count": 36
        }
      ]
    },
    {
      "cell_type": "code",
      "source": [
        "most_similar(\"бричка\", embeddings)"
      ],
      "metadata": {
        "colab": {
          "base_uri": "https://localhost:8080/"
        },
        "id": "MCH8ZaS2ZkJT",
        "outputId": "5446ed38-3474-453a-c6ed-75920e05ea0d"
      },
      "id": "MCH8ZaS2ZkJT",
      "execution_count": 37,
      "outputs": [
        {
          "output_type": "execute_result",
          "data": {
            "text/plain": [
              "['бричка', 'овчинный', 'повозке', 'лежавшим', 'отворенную']"
            ]
          },
          "metadata": {},
          "execution_count": 37
        }
      ]
    },
    {
      "cell_type": "code",
      "source": [
        "most_similar(\"жеребцом\", embeddings)"
      ],
      "metadata": {
        "colab": {
          "base_uri": "https://localhost:8080/"
        },
        "id": "Ba3VjhMphycG",
        "outputId": "2030ea19-c3ed-45e7-ee58-1967a32c0d2a"
      },
      "id": "Ba3VjhMphycG",
      "execution_count": 38,
      "outputs": [
        {
          "output_type": "execute_result",
          "data": {
            "text/plain": [
              "['жеребцом', 'курским', 'стеблю', 'четвёртая', 'сопловые']"
            ]
          },
          "metadata": {},
          "execution_count": 38
        }
      ]
    },
    {
      "cell_type": "code",
      "source": [
        "most_similar(\"пьяному\", embeddings)"
      ],
      "metadata": {
        "colab": {
          "base_uri": "https://localhost:8080/"
        },
        "id": "TqNgWgLQh233",
        "outputId": "801d285f-8f97-45d7-cc78-5ae1ec20d3a2"
      },
      "id": "TqNgWgLQh233",
      "execution_count": 39,
      "outputs": [
        {
          "output_type": "execute_result",
          "data": {
            "text/plain": [
              "['пьяному', 'люда', 'воспрещал', 'отпускал', 'негодный']"
            ]
          },
          "metadata": {},
          "execution_count": 39
        }
      ]
    },
    {
      "cell_type": "code",
      "source": [
        "most_similar(\"вонючие\", embeddings)"
      ],
      "metadata": {
        "colab": {
          "base_uri": "https://localhost:8080/"
        },
        "id": "Hy_gnnp4iIaz",
        "outputId": "0a1da030-f2b6-4242-edd5-1e8e8de73572"
      },
      "id": "Hy_gnnp4iIaz",
      "execution_count": 41,
      "outputs": [
        {
          "output_type": "execute_result",
          "data": {
            "text/plain": [
              "['вонючие', 'штаны', 'засунутые', 'полушубок', 'холщовые']"
            ]
          },
          "metadata": {},
          "execution_count": 41
        }
      ]
    },
    {
      "cell_type": "markdown",
      "source": [
        "# **Вывод** - в целом, получили неплохой осмысленный результат\n",
        "\n",
        "*   Для каждого из слов составлены пары, которые имеют смысл\n",
        "* Предположения для слова **спали**: **спали фуражками вниз, спали с барышней**. Сенцы - это предбанник, возможно кто-то **спал в сенцах**.\n",
        "* **Бричка** отождествлена с **повозкой**, это идеальное попадание в смыслл\n",
        "* **Жеребец** действительно может быть **курским**\n",
        "* Ну и для слов **пьяный** и **вонючие** тоже подобраны слова, которые в паре имеют смысл: **пьяным воспрещено/пьяный люд/вонючие штаны/и т.д.**"
      ],
      "metadata": {
        "id": "fS99-y1riCQE"
      },
      "id": "fS99-y1riCQE"
    },
    {
      "cell_type": "markdown",
      "source": [
        "# **Negative Sampling**"
      ],
      "metadata": {
        "id": "VmEsyyCga2GO"
      },
      "id": "VmEsyyCga2GO"
    },
    {
      "cell_type": "code",
      "source": [
        "vocab_size = len(id2word)"
      ],
      "metadata": {
        "id": "TAnBYCOPbAdp"
      },
      "id": "TAnBYCOPbAdp",
      "execution_count": 42,
      "outputs": []
    },
    {
      "cell_type": "code",
      "source": [
        "def gen_batches_sg(sentences, window = 5, batch_size=1000):\n",
        "\n",
        "    left_context_length = math.ceil(window / 2)\n",
        "    right_context_length = window // 2\n",
        "\n",
        "    while True:\n",
        "        X_target = []\n",
        "        X_context = []\n",
        "        y = []\n",
        "\n",
        "        for sent in sentences:\n",
        "            for i in range(len(sent)-1):\n",
        "                word = sent[i]\n",
        "                context = sent[max(0, i-left_context_length):i] + sent[i+1:i+right_context_length]\n",
        "                for context_word in context:\n",
        "                    X_target.append(word)\n",
        "                    X_context.append(context_word)\n",
        "                    y.append(1)\n",
        "\n",
        "                    X_target.append(word)\n",
        "                    X_context.append(np.random.randint(vocab_size))\n",
        "                    y.append(0)\n",
        "\n",
        "                    if len(X_target) >= batch_size:\n",
        "                        X_target = np.array(X_target)\n",
        "                        X_context = np.array(X_context)\n",
        "                        y = np.array(y)\n",
        "                        yield ((X_target, X_context), y)\n",
        "                        X_target = []\n",
        "                        X_context = []\n",
        "                        y = []"
      ],
      "metadata": {
        "id": "NnUv78F3bBTj"
      },
      "id": "NnUv78F3bBTj",
      "execution_count": 43,
      "outputs": []
    },
    {
      "cell_type": "code",
      "source": [
        "inputs_target = tf.keras.layers.Input(shape=(1,))\n",
        "inputs_context = tf.keras.layers.Input(shape=(1,))\n",
        "\n",
        "embeddings_target = tf.keras.layers.Embedding(input_dim=len(word2id), output_dim=300)(inputs_target, )\n",
        "embeddings_context = tf.keras.layers.Embedding(input_dim=len(word2id), output_dim=300)(inputs_context, )\n",
        "\n",
        "target = tf.keras.layers.Flatten()(embeddings_target)\n",
        "context = tf.keras.layers.Flatten()(embeddings_context)\n",
        "\n",
        "dot = tf.keras.layers.Dot(1)([target, context])\n",
        "outputs = tf.keras.layers.Activation(activation='sigmoid')(dot)\n",
        "\n",
        "neg_sample_model = tf.keras.Model(inputs=[inputs_target, inputs_context],\n",
        "                       outputs=outputs)\n",
        "\n",
        "optimizer = tf.keras.optimizers.Adam(learning_rate=0.001)\n",
        "\n",
        "neg_sample_model.compile(optimizer=optimizer,\n",
        "              loss='binary_crossentropy',\n",
        "              metrics=['accuracy'])"
      ],
      "metadata": {
        "id": "Sh9OHDQab0DP"
      },
      "id": "Sh9OHDQab0DP",
      "execution_count": 44,
      "outputs": []
    },
    {
      "cell_type": "code",
      "source": [
        "len(token_sentences)"
      ],
      "metadata": {
        "colab": {
          "base_uri": "https://localhost:8080/"
        },
        "id": "e20R1ns1nGO_",
        "outputId": "0fb8378e-e701-4995-a19a-8c037f998f80"
      },
      "id": "e20R1ns1nGO_",
      "execution_count": 50,
      "outputs": [
        {
          "output_type": "execute_result",
          "data": {
            "text/plain": [
              "10294"
            ]
          },
          "metadata": {},
          "execution_count": 50
        }
      ]
    },
    {
      "cell_type": "code",
      "source": [
        "# можно варьировать параметр steps_per_epoch, я поставил поменьше, чтобы модель быстрее обучилась\n",
        "neg_sample_model.fit(gen_batches_sg(token_sentences[:5000], window=5),\n",
        "          validation_data=gen_batches_sg(token_sentences[5000:],  window=5),\n",
        "          batch_size=1000,\n",
        "          steps_per_epoch=3000,\n",
        "          validation_steps=30,\n",
        "         epochs=5)"
      ],
      "metadata": {
        "colab": {
          "base_uri": "https://localhost:8080/"
        },
        "id": "OzmyewJKb5d6",
        "outputId": "ec8c66d9-1c45-4e0a-8003-6868715c07bb"
      },
      "id": "OzmyewJKb5d6",
      "execution_count": 53,
      "outputs": [
        {
          "output_type": "stream",
          "name": "stdout",
          "text": [
            "Epoch 1/5\n",
            "3000/3000 [==============================] - 32s 11ms/step - loss: 0.0815 - accuracy: 0.9786 - val_loss: 0.1829 - val_accuracy: 0.9279\n",
            "Epoch 2/5\n",
            "3000/3000 [==============================] - 33s 11ms/step - loss: 0.0599 - accuracy: 0.9841 - val_loss: 0.3728 - val_accuracy: 0.8452\n",
            "Epoch 3/5\n",
            "3000/3000 [==============================] - 31s 10ms/step - loss: 0.0474 - accuracy: 0.9875 - val_loss: 0.6296 - val_accuracy: 0.7892\n",
            "Epoch 4/5\n",
            "3000/3000 [==============================] - 34s 11ms/step - loss: 0.0398 - accuracy: 0.9896 - val_loss: 0.8146 - val_accuracy: 0.7595\n",
            "Epoch 5/5\n",
            "3000/3000 [==============================] - 33s 11ms/step - loss: 0.0343 - accuracy: 0.9910 - val_loss: 0.9231 - val_accuracy: 0.7453\n"
          ]
        },
        {
          "output_type": "execute_result",
          "data": {
            "text/plain": [
              "<keras.src.callbacks.History at 0x7811ec61a230>"
            ]
          },
          "metadata": {},
          "execution_count": 53
        }
      ]
    },
    {
      "cell_type": "code",
      "source": [
        "neg_sample_model.layers"
      ],
      "metadata": {
        "colab": {
          "base_uri": "https://localhost:8080/"
        },
        "id": "NdfXIfWBprtM",
        "outputId": "a32ee5f1-a560-485c-a72e-f4e8e457292f"
      },
      "id": "NdfXIfWBprtM",
      "execution_count": 54,
      "outputs": [
        {
          "output_type": "execute_result",
          "data": {
            "text/plain": [
              "[<keras.src.engine.input_layer.InputLayer at 0x781200511270>,\n",
              " <keras.src.engine.input_layer.InputLayer at 0x781200510130>,\n",
              " <keras.src.layers.core.embedding.Embedding at 0x7812005135e0>,\n",
              " <keras.src.layers.core.embedding.Embedding at 0x78120054abc0>,\n",
              " <keras.src.layers.reshaping.flatten.Flatten at 0x781204afd8d0>,\n",
              " <keras.src.layers.reshaping.flatten.Flatten at 0x78120051c6d0>,\n",
              " <keras.src.layers.merging.dot.Dot at 0x78120054a440>,\n",
              " <keras.src.layers.core.activation.Activation at 0x78120054a1a0>]"
            ]
          },
          "metadata": {},
          "execution_count": 54
        }
      ]
    },
    {
      "cell_type": "code",
      "source": [
        "embeddings = neg_sample_model.layers[2].get_weights()[0]"
      ],
      "metadata": {
        "id": "549gJMvXfHCI"
      },
      "id": "549gJMvXfHCI",
      "execution_count": 55,
      "outputs": []
    },
    {
      "cell_type": "code",
      "source": [
        "most_similar(\"спали\", embeddings)"
      ],
      "metadata": {
        "colab": {
          "base_uri": "https://localhost:8080/"
        },
        "id": "y7yJ62Vag5hU",
        "outputId": "97f3be79-5710-4d91-9f20-7014ccd41082"
      },
      "id": "y7yJ62Vag5hU",
      "execution_count": 56,
      "outputs": [
        {
          "output_type": "execute_result",
          "data": {
            "text/plain": [
              "['спали', 'десятого', 'лучинки', 'заезжие', 'ослепни']"
            ]
          },
          "metadata": {},
          "execution_count": 56
        }
      ]
    },
    {
      "cell_type": "code",
      "source": [
        "most_similar(\"турок\", embeddings)"
      ],
      "metadata": {
        "colab": {
          "base_uri": "https://localhost:8080/"
        },
        "id": "90QkqeMqiMT8",
        "outputId": "8598a857-4179-4eff-ff00-5c847d1fa028"
      },
      "id": "90QkqeMqiMT8",
      "execution_count": 57,
      "outputs": [
        {
          "output_type": "execute_result",
          "data": {
            "text/plain": [
              "['турок', 'разделяло', 'заунывные', 'пододвинет', 'примется']"
            ]
          },
          "metadata": {},
          "execution_count": 57
        }
      ]
    },
    {
      "cell_type": "code",
      "source": [
        "most_similar(\"бричка\", embeddings)"
      ],
      "metadata": {
        "colab": {
          "base_uri": "https://localhost:8080/"
        },
        "id": "RTrKS6DSiOdT",
        "outputId": "23e5b619-7822-4caf-b511-fbc32fb37076"
      },
      "id": "RTrKS6DSiOdT",
      "execution_count": 58,
      "outputs": [
        {
          "output_type": "execute_result",
          "data": {
            "text/plain": [
              "['бричка', 'развязной', 'традиционной', 'подскочил', 'нарева']"
            ]
          },
          "metadata": {},
          "execution_count": 58
        }
      ]
    },
    {
      "cell_type": "code",
      "source": [
        "most_similar(\"жеребцом\", embeddings)"
      ],
      "metadata": {
        "colab": {
          "base_uri": "https://localhost:8080/"
        },
        "id": "GLOttZBzp_0A",
        "outputId": "4e83ae8f-18c5-4d1a-80ef-00453064105e"
      },
      "id": "GLOttZBzp_0A",
      "execution_count": 59,
      "outputs": [
        {
          "output_type": "execute_result",
          "data": {
            "text/plain": [
              "['жеребцом', 'стеблю', 'курским', 'четвёртая', 'начатым']"
            ]
          },
          "metadata": {},
          "execution_count": 59
        }
      ]
    },
    {
      "cell_type": "code",
      "source": [
        "most_similar(\"пьяному\", embeddings)"
      ],
      "metadata": {
        "colab": {
          "base_uri": "https://localhost:8080/"
        },
        "id": "w70vTp4OoVVg",
        "outputId": "e4a26363-009c-4a3c-fd5b-19cbdc34bd2d"
      },
      "id": "w70vTp4OoVVg",
      "execution_count": 60,
      "outputs": [
        {
          "output_type": "execute_result",
          "data": {
            "text/plain": [
              "['пьяному', 'истребляйть', 'повернуться', 'уезжают', 'люда']"
            ]
          },
          "metadata": {},
          "execution_count": 60
        }
      ]
    },
    {
      "cell_type": "code",
      "source": [
        "most_similar(\"вонючие\", embeddings)"
      ],
      "metadata": {
        "colab": {
          "base_uri": "https://localhost:8080/"
        },
        "id": "NJd283JYoXmT",
        "outputId": "529bd00c-e358-4d7f-c7bf-94ccf66e7859"
      },
      "id": "NJd283JYoXmT",
      "execution_count": 61,
      "outputs": [
        {
          "output_type": "execute_result",
          "data": {
            "text/plain": [
              "['вонючие', 'саквояжи', 'глазастей', 'выпушки', 'полураскрытые']"
            ]
          },
          "metadata": {},
          "execution_count": 61
        }
      ]
    },
    {
      "cell_type": "code",
      "source": [
        "most_similar(\"офицеры\", embeddings)"
      ],
      "metadata": {
        "colab": {
          "base_uri": "https://localhost:8080/"
        },
        "id": "DNjiRPSBoYpP",
        "outputId": "aa9ede62-d7e6-4cab-8919-bde8c3788ba8"
      },
      "id": "DNjiRPSBoYpP",
      "execution_count": 62,
      "outputs": [
        {
          "output_type": "execute_result",
          "data": {
            "text/plain": [
              "['офицеры', 'сборных', 'благочестивыми', 'подбрасывали', 'доработках']"
            ]
          },
          "metadata": {},
          "execution_count": 62
        }
      ]
    },
    {
      "cell_type": "markdown",
      "source": [
        "# **Вывод** - получили ускорение обучения (вне зависимости от маленького steps_per_epoch, все равно работает быстрее)\n",
        "\n",
        "* Заметим, что на некоторых словах имеем повторяющиеся результаты - значит, в этих парах можем быть точно уверены\n",
        "* Снова получаем осознанные результаты"
      ],
      "metadata": {
        "id": "N68tLN7bp3Pn"
      },
      "id": "N68tLN7bp3Pn"
    },
    {
      "cell_type": "markdown",
      "source": [
        "# Теперь откроем для себя библиотеку **Gensim**\n",
        "\n",
        "## Сравним **Neg Sampling**, **Hierarchical Softmax**, **обычный Gensim**\n",
        "\n",
        "\n",
        "\n",
        "*   Параметр `sg=1` отвечает за выбор `Skip-Gram`, а не `CBOW`\n",
        "*   Параметры `hs=1` и `negative=1` отвечают за выбор иерархического SoftMax и Negative Sampling соответственно\n",
        "\n"
      ],
      "metadata": {
        "id": "7eedo58XoP2z"
      },
      "id": "7eedo58XoP2z"
    },
    {
      "cell_type": "code",
      "source": [
        "texts = [preprocess(text) for text in war_and_peace if len(preprocess(text)) > 3]"
      ],
      "metadata": {
        "id": "epHkEDejrEA5"
      },
      "id": "epHkEDejrEA5",
      "execution_count": 69,
      "outputs": []
    },
    {
      "cell_type": "code",
      "source": [
        "len(texts)"
      ],
      "metadata": {
        "colab": {
          "base_uri": "https://localhost:8080/"
        },
        "id": "Lo5TV8U1pOBN",
        "outputId": "5c3192be-99db-4e48-ccc5-0823ee57e472"
      },
      "id": "Lo5TV8U1pOBN",
      "execution_count": 71,
      "outputs": [
        {
          "output_type": "execute_result",
          "data": {
            "text/plain": [
              "10431"
            ]
          },
          "metadata": {},
          "execution_count": 71
        }
      ]
    },
    {
      "cell_type": "code",
      "source": [
        "texts[0]"
      ],
      "metadata": {
        "colab": {
          "base_uri": "https://localhost:8080/"
        },
        "id": "4Lw6srnjH9i8",
        "outputId": "5748aa76-7c7b-453e-a2fc-190db864b456"
      },
      "id": "4Lw6srnjH9i8",
      "execution_count": 85,
      "outputs": [
        {
          "output_type": "execute_result",
          "data": {
            "text/plain": [
              "['л', 'н', 'достоевский', '«кампания', 'и', 'континент»']"
            ]
          },
          "metadata": {},
          "execution_count": 85
        }
      ]
    },
    {
      "cell_type": "markdown",
      "source": [
        "### Пробуем `Negative Sampling` с 7 сэмплами"
      ],
      "metadata": {
        "id": "U5z4Molkr8Ro"
      },
      "id": "U5z4Molkr8Ro"
    },
    {
      "cell_type": "code",
      "source": [
        "%%time\n",
        "base_word2vec = gensim.models.Word2Vec(texts, min_count=1,sg=1,hs=0,negative=7)"
      ],
      "metadata": {
        "colab": {
          "base_uri": "https://localhost:8080/"
        },
        "id": "Yc6GDGzgAoZH",
        "outputId": "055841eb-9730-48d9-9aa1-96ff8b70c83e"
      },
      "id": "Yc6GDGzgAoZH",
      "execution_count": 83,
      "outputs": [
        {
          "output_type": "stream",
          "name": "stdout",
          "text": [
            "CPU times: user 28.1 s, sys: 103 ms, total: 28.2 s\n",
            "Wall time: 17.7 s\n"
          ]
        }
      ]
    },
    {
      "cell_type": "code",
      "source": [
        "words_to_analyze = ['офицеры', 'турок', 'зависть', 'бричка', 'государь']"
      ],
      "metadata": {
        "id": "nYQm8l_uqhLZ"
      },
      "id": "nYQm8l_uqhLZ",
      "execution_count": 93,
      "outputs": []
    },
    {
      "cell_type": "code",
      "source": [
        "def analyse_results(words_to_analyze, model_type):\n",
        "  most_similar_words = {}\n",
        "\n",
        "  for word in tqdm(words_to_analyze):\n",
        "    try:\n",
        "      similar_words = model_type.wv.most_similar(word, topn=5)\n",
        "      most_similar_words[word] = similar_words\n",
        "    except KeyError:\n",
        "        print(f\"Слово '{word}' не находится в словаре.\")\n",
        "\n",
        "  for word, similar_words in most_similar_words.items():\n",
        "    print(f\"Слово: {word}\")\n",
        "    print()\n",
        "    for similar_word, similarity_score in similar_words:\n",
        "        print(f\"Похожее слово: {similar_word}, Вероятность: {similarity_score}\")\n",
        "    print()\n"
      ],
      "metadata": {
        "id": "QJV7MBcWDQ5X"
      },
      "id": "QJV7MBcWDQ5X",
      "execution_count": 94,
      "outputs": []
    },
    {
      "cell_type": "code",
      "source": [
        "analyse_results(words_to_analyze, base_word2vec)"
      ],
      "metadata": {
        "colab": {
          "base_uri": "https://localhost:8080/"
        },
        "id": "EH9idSQJqlkH",
        "outputId": "28331ce3-310c-4f81-82b5-aa2b05e1d364"
      },
      "id": "EH9idSQJqlkH",
      "execution_count": 96,
      "outputs": [
        {
          "output_type": "stream",
          "name": "stderr",
          "text": [
            "100%|██████████| 5/5 [00:00<00:00, 184.75it/s]"
          ]
        },
        {
          "output_type": "stream",
          "name": "stdout",
          "text": [
            "Слово: офицеры\n",
            "\n",
            "Похожее слово: унтер-офицеры, Вероятность: 0.9307476282119751\n",
            "Похожее слово: бежали, Вероятность: 0.9217262268066406\n",
            "Похожее слово: английские, Вероятность: 0.9179248809814453\n",
            "Похожее слово: пошли, Вероятность: 0.9130265116691589\n",
            "Похожее слово: некоторые, Вероятность: 0.8983425498008728\n",
            "\n",
            "Слово: турок\n",
            "\n",
            "Похожее слово: оказываться, Вероятность: 0.9600985050201416\n",
            "Похожее слово: осталось, Вероятность: 0.9578699469566345\n",
            "Похожее слово: левый, Вероятность: 0.9576862454414368\n",
            "Похожее слово: останется, Вероятность: 0.9573100209236145\n",
            "Похожее слово: бородинское, Вероятность: 0.9570885300636292\n",
            "\n",
            "Слово: зависть\n",
            "\n",
            "Похожее слово: коль, Вероятность: 0.9870361685752869\n",
            "Похожее слово: простил, Вероятность: 0.9865924715995789\n",
            "Похожее слово: почему-либо, Вероятность: 0.9846252799034119\n",
            "Похожее слово: ужасна, Вероятность: 0.9842065572738647\n",
            "Похожее слово: юность, Вероятность: 0.9839932322502136\n",
            "\n",
            "Слово: бричка\n",
            "\n",
            "Похожее слово: варкой, Вероятность: 0.9930304288864136\n",
            "Похожее слово: донской, Вероятность: 0.9929294586181641\n",
            "Похожее слово: негромка, Вероятность: 0.9928683042526245\n",
            "Похожее слово: грязь, Вероятность: 0.992774486541748\n",
            "Похожее слово: свечка, Вероятность: 0.9927684664726257\n",
            "\n",
            "Слово: государь\n",
            "\n",
            "Похожее слово: андрей, Вероятность: 0.8275181651115417\n",
            "Похожее слово: барон, Вероятность: 0.7564272284507751\n",
            "Похожее слово: борис, Вероятность: 0.7405561804771423\n",
            "Похожее слово: суворов, Вероятность: 0.7254605889320374\n",
            "Похожее слово: новочеркасск, Вероятность: 0.7155246734619141\n",
            "\n"
          ]
        },
        {
          "output_type": "stream",
          "name": "stderr",
          "text": [
            "\n"
          ]
        }
      ]
    },
    {
      "cell_type": "markdown",
      "source": [
        "# Получаем очень хорошие и осмысленные резуольтаты, в частности:\n",
        "\n",
        "*   С **офицерами** идеальное попадание в смысл\n",
        "*   На слово **государь** модель выдаёт имена людей, что является осмысленным и логичным.\n",
        "\n"
      ],
      "metadata": {
        "id": "BJSTKleqFKcZ"
      },
      "id": "BJSTKleqFKcZ"
    },
    {
      "cell_type": "markdown",
      "source": [
        "# Теперь попробуем **Hierarchical Softmax**"
      ],
      "metadata": {
        "id": "HlZ-UT6esVjz"
      },
      "id": "HlZ-UT6esVjz"
    },
    {
      "cell_type": "code",
      "source": [
        "%%time\n",
        "hierarch_word2vec = gensim.models.Word2Vec(texts, min_count=1,sg=1,hs=1,negative=0)"
      ],
      "metadata": {
        "colab": {
          "base_uri": "https://localhost:8080/",
          "height": 52
        },
        "id": "UE6gl3RvFmUl",
        "outputId": "41494839-970f-4ca0-fa5e-284a8c158994"
      },
      "id": "UE6gl3RvFmUl",
      "execution_count": 89,
      "outputs": [
        {
          "output_type": "stream",
          "name": "stdout",
          "text": [
            "CPU times: user 22.6 s, sys: 110 ms, total: 22.7 s\n",
            "Wall time: 1min 7s\n"
          ]
        }
      ]
    },
    {
      "cell_type": "code",
      "source": [
        "analyse_results(words_to_analyze, hierarch_word2vec)"
      ],
      "metadata": {
        "colab": {
          "base_uri": "https://localhost:8080/"
        },
        "id": "Gvma6XZatHbT",
        "outputId": "65feab23-2d03-486c-a442-39389cec9637"
      },
      "id": "Gvma6XZatHbT",
      "execution_count": 98,
      "outputs": [
        {
          "output_type": "stream",
          "name": "stderr",
          "text": [
            "100%|██████████| 5/5 [00:00<00:00, 86.47it/s]"
          ]
        },
        {
          "output_type": "stream",
          "name": "stdout",
          "text": [
            "Слово: офицеры\n",
            "\n",
            "Похожее слово: унтер-офицеры, Вероятность: 0.7064436078071594\n",
            "Похожее слово: кавалерийские, Вероятность: 0.6826833486557007\n",
            "Похожее слово: уланы, Вероятность: 0.6819370985031128\n",
            "Похожее слово: английские, Вероятность: 0.6816344261169434\n",
            "Похожее слово: бежали, Вероятность: 0.6710196137428284\n",
            "\n",
            "Слово: турок\n",
            "\n",
            "Похожее слово: отбит, Вероятность: 0.5980252623558044\n",
            "Похожее слово: передвигаются, Вероятность: 0.5963581204414368\n",
            "Похожее слово: истреблена, Вероятность: 0.572993278503418\n",
            "Похожее слово: задержан, Вероятность: 0.5692239999771118\n",
            "Похожее слово: пансионы, Вероятность: 0.5690258741378784\n",
            "\n",
            "Слово: зависть\n",
            "\n",
            "Похожее слово: получаю, Вероятность: 0.6974465250968933\n",
            "Похожее слово: позволит, Вероятность: 0.6837061643600464\n",
            "Похожее слово: раскаивается, Вероятность: 0.6794800758361816\n",
            "Похожее слово: забуду, Вероятность: 0.6742539405822754\n",
            "Похожее слово: ловит, Вероятность: 0.6704015135765076\n",
            "\n",
            "Слово: бричка\n",
            "\n",
            "Похожее слово: овчинный, Вероятность: 0.8407329320907593\n",
            "Похожее слово: лежавшим, Вероятность: 0.7852277159690857\n",
            "Похожее слово: легкомысленной, Вероятность: 0.7750930786132812\n",
            "Похожее слово: вырыта, Вероятность: 0.7650886178016663\n",
            "Похожее слово: столбиком, Вероятность: 0.7612722516059875\n",
            "\n",
            "Слово: государь\n",
            "\n",
            "Похожее слово: андрей, Вероятность: 0.7151965498924255\n",
            "Похожее слово: севастьяныч, Вероятность: 0.6885999441146851\n",
            "Похожее слово: василий, Вероятность: 0.6302035450935364\n",
            "Похожее слово: болтунишка, Вероятность: 0.6300621032714844\n",
            "Похожее слово: montesquieu, Вероятность: 0.6175512075424194\n",
            "\n"
          ]
        },
        {
          "output_type": "stream",
          "name": "stderr",
          "text": [
            "\n"
          ]
        }
      ]
    },
    {
      "cell_type": "markdown",
      "source": [
        "# Видим, что тут он без подбора параметров справляется хуже, чем Negative Sampling. Попробуем хотя бы 1 раз подобрать параметры, чтобы улучшить результат.\n",
        "\n",
        "Есть еще несколько параметров:\n",
        "\n",
        "* **sample** - отвечает за downsampling частотных слов; чем меньше, тем сильнее штрафуются частотные слова (по умолчанию стоит 1e-3, но можно поставить 1e-4, 1e-5). Для sg это будет значительно влиять на скорость (1e-5 будет быстрее)  \n",
        "* **ns_exponent** -  регулирет downsampling частотных слов в negative sampling; 0 - никакого штрафа за частотность (как у нас выше с полным рандомом), 1 - штрафует пропорционально частотности, значения 0-1 что-то посередине (по умолчанию 0.75)  "
      ],
      "metadata": {
        "id": "R0GfLxxItiaB"
      },
      "id": "R0GfLxxItiaB"
    },
    {
      "cell_type": "code",
      "source": [
        "%%time\n",
        "hierarch_word2vec_update = gensim.models.Word2Vec(texts, min_count=1,sg=1,hs=1,negative=0,sample=1e-5)"
      ],
      "metadata": {
        "colab": {
          "base_uri": "https://localhost:8080/"
        },
        "id": "kiMj6z16ul1T",
        "outputId": "74d9d989-ea3f-4391-9e3e-9f7c29d77c11"
      },
      "id": "kiMj6z16ul1T",
      "execution_count": 101,
      "outputs": [
        {
          "output_type": "stream",
          "name": "stdout",
          "text": [
            "CPU times: user 12.6 s, sys: 130 ms, total: 12.7 s\n",
            "Wall time: 9.15 s\n"
          ]
        }
      ]
    },
    {
      "cell_type": "code",
      "source": [
        "analyse_results(words_to_analyze, hierarch_word2vec_update)"
      ],
      "metadata": {
        "colab": {
          "base_uri": "https://localhost:8080/"
        },
        "id": "NaG6w0E0u3JD",
        "outputId": "98387a0c-d22c-4980-b948-6242b1b1b172"
      },
      "id": "NaG6w0E0u3JD",
      "execution_count": 102,
      "outputs": [
        {
          "output_type": "stream",
          "name": "stderr",
          "text": [
            "100%|██████████| 5/5 [00:00<00:00, 231.96it/s]"
          ]
        },
        {
          "output_type": "stream",
          "name": "stdout",
          "text": [
            "Слово: офицеры\n",
            "\n",
            "Похожее слово: утренними, Вероятность: 0.8829641342163086\n",
            "Похожее слово: встолченной, Вероятность: 0.8829205632209778\n",
            "Похожее слово: неуверены, Вероятность: 0.8819947838783264\n",
            "Похожее слово: вычищен, Вероятность: 0.878150463104248\n",
            "Похожее слово: предстаём, Вероятность: 0.8778148889541626\n",
            "\n",
            "Слово: турок\n",
            "\n",
            "Похожее слово: херувимов, Вероятность: 0.8448445200920105\n",
            "Похожее слово: моисею, Вероятность: 0.837394118309021\n",
            "Похожее слово: ein, Вероятность: 0.8356873393058777\n",
            "Похожее слово: вывезен, Вероятность: 0.835387647151947\n",
            "Похожее слово: перекрестил, Вероятность: 0.8342860341072083\n",
            "\n",
            "Слово: зависть\n",
            "\n",
            "Похожее слово: сочинения, Вероятность: 0.8522939085960388\n",
            "Похожее слово: соединявшееся, Вероятность: 0.8500381708145142\n",
            "Похожее слово: кем-нибудь, Вероятность: 0.84159916639328\n",
            "Похожее слово: сменялось, Вероятность: 0.8336148262023926\n",
            "Похожее слово: неурожаю, Вероятность: 0.833137571811676\n",
            "\n",
            "Слово: бричка\n",
            "\n",
            "Похожее слово: спуталось, Вероятность: 0.9036630392074585\n",
            "Похожее слово: промоины, Вероятность: 0.8981318473815918\n",
            "Похожее слово: чепце, Вероятность: 0.8948171138763428\n",
            "Похожее слово: делаемы, Вероятность: 0.893706738948822\n",
            "Похожее слово: античности, Вероятность: 0.8935996890068054\n",
            "\n",
            "Слово: государь\n",
            "\n",
            "Похожее слово: разливал, Вероятность: 0.8498725891113281\n",
            "Похожее слово: прискакавшей, Вероятность: 0.8406895995140076\n",
            "Похожее слово: ляскал, Вероятность: 0.8402245044708252\n",
            "Похожее слово: малозаметным, Вероятность: 0.8371217846870422\n",
            "Похожее слово: вызывавшую, Вероятность: 0.8334076404571533\n",
            "\n"
          ]
        },
        {
          "output_type": "stream",
          "name": "stderr",
          "text": [
            "\n"
          ]
        }
      ]
    },
    {
      "cell_type": "markdown",
      "source": [
        "### **Выводы**:\n",
        "\n",
        "* Получили более стабильные результаты для Hierarchical Softmax, но Negative Sampling всё ещё лучше\n",
        "* Узнали про чудо-библиотеку `Gensim`\n",
        "* По итогу, **Negative Sampling** оказался лучшим из подходов."
      ],
      "metadata": {
        "id": "iM8YuHxDu6BW"
      },
      "id": "iM8YuHxDu6BW"
    }
  ],
  "metadata": {
    "kernelspec": {
      "display_name": "Python 3",
      "name": "python3"
    },
    "language_info": {
      "codemirror_mode": {
        "name": "ipython",
        "version": 3
      },
      "file_extension": ".py",
      "mimetype": "text/x-python",
      "name": "python",
      "nbconvert_exporter": "python",
      "pygments_lexer": "ipython3",
      "version": "3.11.5"
    },
    "colab": {
      "provenance": [],
      "gpuType": "T4"
    },
    "accelerator": "GPU",
    "widgets": {
      "application/vnd.jupyter.widget-state+json": {
        "652b50bdf32c428bb6d413cbf852c60a": {
          "model_module": "@jupyter-widgets/controls",
          "model_name": "HBoxModel",
          "model_module_version": "1.5.0",
          "state": {
            "_dom_classes": [],
            "_model_module": "@jupyter-widgets/controls",
            "_model_module_version": "1.5.0",
            "_model_name": "HBoxModel",
            "_view_count": null,
            "_view_module": "@jupyter-widgets/controls",
            "_view_module_version": "1.5.0",
            "_view_name": "HBoxView",
            "box_style": "",
            "children": [
              "IPY_MODEL_34d352a8fdaf4fb097790f66e885a0ea",
              "IPY_MODEL_e94082875c1147a19cf659fbaf26529f",
              "IPY_MODEL_99601997ed4847569f30c23aa05d5d69"
            ],
            "layout": "IPY_MODEL_f6b1250eb35942aca99e592d1bd6f029"
          }
        },
        "34d352a8fdaf4fb097790f66e885a0ea": {
          "model_module": "@jupyter-widgets/controls",
          "model_name": "HTMLModel",
          "model_module_version": "1.5.0",
          "state": {
            "_dom_classes": [],
            "_model_module": "@jupyter-widgets/controls",
            "_model_module_version": "1.5.0",
            "_model_name": "HTMLModel",
            "_view_count": null,
            "_view_module": "@jupyter-widgets/controls",
            "_view_module_version": "1.5.0",
            "_view_name": "HTMLView",
            "description": "",
            "description_tooltip": null,
            "layout": "IPY_MODEL_a45663edb4dd4bc4b43aa7cd4bfceac8",
            "placeholder": "​",
            "style": "IPY_MODEL_97a1976ded0c4f1fbc26cb125539e2bd",
            "value": "100%"
          }
        },
        "e94082875c1147a19cf659fbaf26529f": {
          "model_module": "@jupyter-widgets/controls",
          "model_name": "FloatProgressModel",
          "model_module_version": "1.5.0",
          "state": {
            "_dom_classes": [],
            "_model_module": "@jupyter-widgets/controls",
            "_model_module_version": "1.5.0",
            "_model_name": "FloatProgressModel",
            "_view_count": null,
            "_view_module": "@jupyter-widgets/controls",
            "_view_module_version": "1.5.0",
            "_view_name": "ProgressView",
            "bar_style": "success",
            "description": "",
            "description_tooltip": null,
            "layout": "IPY_MODEL_b1177339d3b34d5c939865a45b8eef2a",
            "max": 10,
            "min": 0,
            "orientation": "horizontal",
            "style": "IPY_MODEL_07b8ddfd12d441b586c498140bff5df9",
            "value": 10
          }
        },
        "99601997ed4847569f30c23aa05d5d69": {
          "model_module": "@jupyter-widgets/controls",
          "model_name": "HTMLModel",
          "model_module_version": "1.5.0",
          "state": {
            "_dom_classes": [],
            "_model_module": "@jupyter-widgets/controls",
            "_model_module_version": "1.5.0",
            "_model_name": "HTMLModel",
            "_view_count": null,
            "_view_module": "@jupyter-widgets/controls",
            "_view_module_version": "1.5.0",
            "_view_name": "HTMLView",
            "description": "",
            "description_tooltip": null,
            "layout": "IPY_MODEL_6075d7027fde4e119e85457df2d26fd7",
            "placeholder": "​",
            "style": "IPY_MODEL_2c0792b3f83f4ff38a052eecacb0add6",
            "value": " 10/10 [10:48&lt;00:00, 74.61s/epoch, loss=7.63, val_loss=8.32]"
          }
        },
        "f6b1250eb35942aca99e592d1bd6f029": {
          "model_module": "@jupyter-widgets/base",
          "model_name": "LayoutModel",
          "model_module_version": "1.2.0",
          "state": {
            "_model_module": "@jupyter-widgets/base",
            "_model_module_version": "1.2.0",
            "_model_name": "LayoutModel",
            "_view_count": null,
            "_view_module": "@jupyter-widgets/base",
            "_view_module_version": "1.2.0",
            "_view_name": "LayoutView",
            "align_content": null,
            "align_items": null,
            "align_self": null,
            "border": null,
            "bottom": null,
            "display": null,
            "flex": null,
            "flex_flow": null,
            "grid_area": null,
            "grid_auto_columns": null,
            "grid_auto_flow": null,
            "grid_auto_rows": null,
            "grid_column": null,
            "grid_gap": null,
            "grid_row": null,
            "grid_template_areas": null,
            "grid_template_columns": null,
            "grid_template_rows": null,
            "height": null,
            "justify_content": null,
            "justify_items": null,
            "left": null,
            "margin": null,
            "max_height": null,
            "max_width": null,
            "min_height": null,
            "min_width": null,
            "object_fit": null,
            "object_position": null,
            "order": null,
            "overflow": null,
            "overflow_x": null,
            "overflow_y": null,
            "padding": null,
            "right": null,
            "top": null,
            "visibility": null,
            "width": null
          }
        },
        "a45663edb4dd4bc4b43aa7cd4bfceac8": {
          "model_module": "@jupyter-widgets/base",
          "model_name": "LayoutModel",
          "model_module_version": "1.2.0",
          "state": {
            "_model_module": "@jupyter-widgets/base",
            "_model_module_version": "1.2.0",
            "_model_name": "LayoutModel",
            "_view_count": null,
            "_view_module": "@jupyter-widgets/base",
            "_view_module_version": "1.2.0",
            "_view_name": "LayoutView",
            "align_content": null,
            "align_items": null,
            "align_self": null,
            "border": null,
            "bottom": null,
            "display": null,
            "flex": null,
            "flex_flow": null,
            "grid_area": null,
            "grid_auto_columns": null,
            "grid_auto_flow": null,
            "grid_auto_rows": null,
            "grid_column": null,
            "grid_gap": null,
            "grid_row": null,
            "grid_template_areas": null,
            "grid_template_columns": null,
            "grid_template_rows": null,
            "height": null,
            "justify_content": null,
            "justify_items": null,
            "left": null,
            "margin": null,
            "max_height": null,
            "max_width": null,
            "min_height": null,
            "min_width": null,
            "object_fit": null,
            "object_position": null,
            "order": null,
            "overflow": null,
            "overflow_x": null,
            "overflow_y": null,
            "padding": null,
            "right": null,
            "top": null,
            "visibility": null,
            "width": null
          }
        },
        "97a1976ded0c4f1fbc26cb125539e2bd": {
          "model_module": "@jupyter-widgets/controls",
          "model_name": "DescriptionStyleModel",
          "model_module_version": "1.5.0",
          "state": {
            "_model_module": "@jupyter-widgets/controls",
            "_model_module_version": "1.5.0",
            "_model_name": "DescriptionStyleModel",
            "_view_count": null,
            "_view_module": "@jupyter-widgets/base",
            "_view_module_version": "1.2.0",
            "_view_name": "StyleView",
            "description_width": ""
          }
        },
        "b1177339d3b34d5c939865a45b8eef2a": {
          "model_module": "@jupyter-widgets/base",
          "model_name": "LayoutModel",
          "model_module_version": "1.2.0",
          "state": {
            "_model_module": "@jupyter-widgets/base",
            "_model_module_version": "1.2.0",
            "_model_name": "LayoutModel",
            "_view_count": null,
            "_view_module": "@jupyter-widgets/base",
            "_view_module_version": "1.2.0",
            "_view_name": "LayoutView",
            "align_content": null,
            "align_items": null,
            "align_self": null,
            "border": null,
            "bottom": null,
            "display": null,
            "flex": null,
            "flex_flow": null,
            "grid_area": null,
            "grid_auto_columns": null,
            "grid_auto_flow": null,
            "grid_auto_rows": null,
            "grid_column": null,
            "grid_gap": null,
            "grid_row": null,
            "grid_template_areas": null,
            "grid_template_columns": null,
            "grid_template_rows": null,
            "height": null,
            "justify_content": null,
            "justify_items": null,
            "left": null,
            "margin": null,
            "max_height": null,
            "max_width": null,
            "min_height": null,
            "min_width": null,
            "object_fit": null,
            "object_position": null,
            "order": null,
            "overflow": null,
            "overflow_x": null,
            "overflow_y": null,
            "padding": null,
            "right": null,
            "top": null,
            "visibility": null,
            "width": null
          }
        },
        "07b8ddfd12d441b586c498140bff5df9": {
          "model_module": "@jupyter-widgets/controls",
          "model_name": "ProgressStyleModel",
          "model_module_version": "1.5.0",
          "state": {
            "_model_module": "@jupyter-widgets/controls",
            "_model_module_version": "1.5.0",
            "_model_name": "ProgressStyleModel",
            "_view_count": null,
            "_view_module": "@jupyter-widgets/base",
            "_view_module_version": "1.2.0",
            "_view_name": "StyleView",
            "bar_color": null,
            "description_width": ""
          }
        },
        "6075d7027fde4e119e85457df2d26fd7": {
          "model_module": "@jupyter-widgets/base",
          "model_name": "LayoutModel",
          "model_module_version": "1.2.0",
          "state": {
            "_model_module": "@jupyter-widgets/base",
            "_model_module_version": "1.2.0",
            "_model_name": "LayoutModel",
            "_view_count": null,
            "_view_module": "@jupyter-widgets/base",
            "_view_module_version": "1.2.0",
            "_view_name": "LayoutView",
            "align_content": null,
            "align_items": null,
            "align_self": null,
            "border": null,
            "bottom": null,
            "display": null,
            "flex": null,
            "flex_flow": null,
            "grid_area": null,
            "grid_auto_columns": null,
            "grid_auto_flow": null,
            "grid_auto_rows": null,
            "grid_column": null,
            "grid_gap": null,
            "grid_row": null,
            "grid_template_areas": null,
            "grid_template_columns": null,
            "grid_template_rows": null,
            "height": null,
            "justify_content": null,
            "justify_items": null,
            "left": null,
            "margin": null,
            "max_height": null,
            "max_width": null,
            "min_height": null,
            "min_width": null,
            "object_fit": null,
            "object_position": null,
            "order": null,
            "overflow": null,
            "overflow_x": null,
            "overflow_y": null,
            "padding": null,
            "right": null,
            "top": null,
            "visibility": null,
            "width": null
          }
        },
        "2c0792b3f83f4ff38a052eecacb0add6": {
          "model_module": "@jupyter-widgets/controls",
          "model_name": "DescriptionStyleModel",
          "model_module_version": "1.5.0",
          "state": {
            "_model_module": "@jupyter-widgets/controls",
            "_model_module_version": "1.5.0",
            "_model_name": "DescriptionStyleModel",
            "_view_count": null,
            "_view_module": "@jupyter-widgets/base",
            "_view_module_version": "1.2.0",
            "_view_name": "StyleView",
            "description_width": ""
          }
        },
        "6cd5201e99ed412a9e66a0b192ecbd22": {
          "model_module": "@jupyter-widgets/controls",
          "model_name": "HBoxModel",
          "model_module_version": "1.5.0",
          "state": {
            "_dom_classes": [],
            "_model_module": "@jupyter-widgets/controls",
            "_model_module_version": "1.5.0",
            "_model_name": "HBoxModel",
            "_view_count": null,
            "_view_module": "@jupyter-widgets/controls",
            "_view_module_version": "1.5.0",
            "_view_name": "HBoxView",
            "box_style": "",
            "children": [
              "IPY_MODEL_3fb305dd4a58417ab688f4aab150e6c8",
              "IPY_MODEL_ecc4993669344d1da2d28126fa8bdbc4",
              "IPY_MODEL_4b7016fa151844acb3cb73d5c78397ab"
            ],
            "layout": "IPY_MODEL_bd02ac1022fc4ddbb5305d652fd63313"
          }
        },
        "3fb305dd4a58417ab688f4aab150e6c8": {
          "model_module": "@jupyter-widgets/controls",
          "model_name": "HTMLModel",
          "model_module_version": "1.5.0",
          "state": {
            "_dom_classes": [],
            "_model_module": "@jupyter-widgets/controls",
            "_model_module_version": "1.5.0",
            "_model_name": "HTMLModel",
            "_view_count": null,
            "_view_module": "@jupyter-widgets/controls",
            "_view_module_version": "1.5.0",
            "_view_name": "HTMLView",
            "description": "",
            "description_tooltip": null,
            "layout": "IPY_MODEL_1d36acfde2b6442887dc4d3c1340e45f",
            "placeholder": "​",
            "style": "IPY_MODEL_0f094e42639c40769462cc4e002ce79e",
            "value": "100%"
          }
        },
        "ecc4993669344d1da2d28126fa8bdbc4": {
          "model_module": "@jupyter-widgets/controls",
          "model_name": "FloatProgressModel",
          "model_module_version": "1.5.0",
          "state": {
            "_dom_classes": [],
            "_model_module": "@jupyter-widgets/controls",
            "_model_module_version": "1.5.0",
            "_model_name": "FloatProgressModel",
            "_view_count": null,
            "_view_module": "@jupyter-widgets/controls",
            "_view_module_version": "1.5.0",
            "_view_name": "ProgressView",
            "bar_style": "",
            "description": "",
            "description_tooltip": null,
            "layout": "IPY_MODEL_fd839cde34994baaa1fb37faddaca929",
            "max": 4038,
            "min": 0,
            "orientation": "horizontal",
            "style": "IPY_MODEL_e9a6fcbe6b4648f09b4816e63c39af08",
            "value": 4038
          }
        },
        "4b7016fa151844acb3cb73d5c78397ab": {
          "model_module": "@jupyter-widgets/controls",
          "model_name": "HTMLModel",
          "model_module_version": "1.5.0",
          "state": {
            "_dom_classes": [],
            "_model_module": "@jupyter-widgets/controls",
            "_model_module_version": "1.5.0",
            "_model_name": "HTMLModel",
            "_view_count": null,
            "_view_module": "@jupyter-widgets/controls",
            "_view_module_version": "1.5.0",
            "_view_name": "HTMLView",
            "description": "",
            "description_tooltip": null,
            "layout": "IPY_MODEL_63dcf6a47b3544feba4d0661fcb5d4cb",
            "placeholder": "​",
            "style": "IPY_MODEL_a4e7c791005a402089d36885de547c65",
            "value": " 4.04k/4.04k [00:52&lt;00:00, 69.0batch/s, loss=7.63]"
          }
        },
        "bd02ac1022fc4ddbb5305d652fd63313": {
          "model_module": "@jupyter-widgets/base",
          "model_name": "LayoutModel",
          "model_module_version": "1.2.0",
          "state": {
            "_model_module": "@jupyter-widgets/base",
            "_model_module_version": "1.2.0",
            "_model_name": "LayoutModel",
            "_view_count": null,
            "_view_module": "@jupyter-widgets/base",
            "_view_module_version": "1.2.0",
            "_view_name": "LayoutView",
            "align_content": null,
            "align_items": null,
            "align_self": null,
            "border": null,
            "bottom": null,
            "display": null,
            "flex": null,
            "flex_flow": null,
            "grid_area": null,
            "grid_auto_columns": null,
            "grid_auto_flow": null,
            "grid_auto_rows": null,
            "grid_column": null,
            "grid_gap": null,
            "grid_row": null,
            "grid_template_areas": null,
            "grid_template_columns": null,
            "grid_template_rows": null,
            "height": null,
            "justify_content": null,
            "justify_items": null,
            "left": null,
            "margin": null,
            "max_height": null,
            "max_width": null,
            "min_height": null,
            "min_width": null,
            "object_fit": null,
            "object_position": null,
            "order": null,
            "overflow": null,
            "overflow_x": null,
            "overflow_y": null,
            "padding": null,
            "right": null,
            "top": null,
            "visibility": "hidden",
            "width": null
          }
        },
        "1d36acfde2b6442887dc4d3c1340e45f": {
          "model_module": "@jupyter-widgets/base",
          "model_name": "LayoutModel",
          "model_module_version": "1.2.0",
          "state": {
            "_model_module": "@jupyter-widgets/base",
            "_model_module_version": "1.2.0",
            "_model_name": "LayoutModel",
            "_view_count": null,
            "_view_module": "@jupyter-widgets/base",
            "_view_module_version": "1.2.0",
            "_view_name": "LayoutView",
            "align_content": null,
            "align_items": null,
            "align_self": null,
            "border": null,
            "bottom": null,
            "display": null,
            "flex": null,
            "flex_flow": null,
            "grid_area": null,
            "grid_auto_columns": null,
            "grid_auto_flow": null,
            "grid_auto_rows": null,
            "grid_column": null,
            "grid_gap": null,
            "grid_row": null,
            "grid_template_areas": null,
            "grid_template_columns": null,
            "grid_template_rows": null,
            "height": null,
            "justify_content": null,
            "justify_items": null,
            "left": null,
            "margin": null,
            "max_height": null,
            "max_width": null,
            "min_height": null,
            "min_width": null,
            "object_fit": null,
            "object_position": null,
            "order": null,
            "overflow": null,
            "overflow_x": null,
            "overflow_y": null,
            "padding": null,
            "right": null,
            "top": null,
            "visibility": null,
            "width": null
          }
        },
        "0f094e42639c40769462cc4e002ce79e": {
          "model_module": "@jupyter-widgets/controls",
          "model_name": "DescriptionStyleModel",
          "model_module_version": "1.5.0",
          "state": {
            "_model_module": "@jupyter-widgets/controls",
            "_model_module_version": "1.5.0",
            "_model_name": "DescriptionStyleModel",
            "_view_count": null,
            "_view_module": "@jupyter-widgets/base",
            "_view_module_version": "1.2.0",
            "_view_name": "StyleView",
            "description_width": ""
          }
        },
        "fd839cde34994baaa1fb37faddaca929": {
          "model_module": "@jupyter-widgets/base",
          "model_name": "LayoutModel",
          "model_module_version": "1.2.0",
          "state": {
            "_model_module": "@jupyter-widgets/base",
            "_model_module_version": "1.2.0",
            "_model_name": "LayoutModel",
            "_view_count": null,
            "_view_module": "@jupyter-widgets/base",
            "_view_module_version": "1.2.0",
            "_view_name": "LayoutView",
            "align_content": null,
            "align_items": null,
            "align_self": null,
            "border": null,
            "bottom": null,
            "display": null,
            "flex": null,
            "flex_flow": null,
            "grid_area": null,
            "grid_auto_columns": null,
            "grid_auto_flow": null,
            "grid_auto_rows": null,
            "grid_column": null,
            "grid_gap": null,
            "grid_row": null,
            "grid_template_areas": null,
            "grid_template_columns": null,
            "grid_template_rows": null,
            "height": null,
            "justify_content": null,
            "justify_items": null,
            "left": null,
            "margin": null,
            "max_height": null,
            "max_width": null,
            "min_height": null,
            "min_width": null,
            "object_fit": null,
            "object_position": null,
            "order": null,
            "overflow": null,
            "overflow_x": null,
            "overflow_y": null,
            "padding": null,
            "right": null,
            "top": null,
            "visibility": null,
            "width": null
          }
        },
        "e9a6fcbe6b4648f09b4816e63c39af08": {
          "model_module": "@jupyter-widgets/controls",
          "model_name": "ProgressStyleModel",
          "model_module_version": "1.5.0",
          "state": {
            "_model_module": "@jupyter-widgets/controls",
            "_model_module_version": "1.5.0",
            "_model_name": "ProgressStyleModel",
            "_view_count": null,
            "_view_module": "@jupyter-widgets/base",
            "_view_module_version": "1.2.0",
            "_view_name": "StyleView",
            "bar_color": null,
            "description_width": ""
          }
        },
        "63dcf6a47b3544feba4d0661fcb5d4cb": {
          "model_module": "@jupyter-widgets/base",
          "model_name": "LayoutModel",
          "model_module_version": "1.2.0",
          "state": {
            "_model_module": "@jupyter-widgets/base",
            "_model_module_version": "1.2.0",
            "_model_name": "LayoutModel",
            "_view_count": null,
            "_view_module": "@jupyter-widgets/base",
            "_view_module_version": "1.2.0",
            "_view_name": "LayoutView",
            "align_content": null,
            "align_items": null,
            "align_self": null,
            "border": null,
            "bottom": null,
            "display": null,
            "flex": null,
            "flex_flow": null,
            "grid_area": null,
            "grid_auto_columns": null,
            "grid_auto_flow": null,
            "grid_auto_rows": null,
            "grid_column": null,
            "grid_gap": null,
            "grid_row": null,
            "grid_template_areas": null,
            "grid_template_columns": null,
            "grid_template_rows": null,
            "height": null,
            "justify_content": null,
            "justify_items": null,
            "left": null,
            "margin": null,
            "max_height": null,
            "max_width": null,
            "min_height": null,
            "min_width": null,
            "object_fit": null,
            "object_position": null,
            "order": null,
            "overflow": null,
            "overflow_x": null,
            "overflow_y": null,
            "padding": null,
            "right": null,
            "top": null,
            "visibility": null,
            "width": null
          }
        },
        "a4e7c791005a402089d36885de547c65": {
          "model_module": "@jupyter-widgets/controls",
          "model_name": "DescriptionStyleModel",
          "model_module_version": "1.5.0",
          "state": {
            "_model_module": "@jupyter-widgets/controls",
            "_model_module_version": "1.5.0",
            "_model_name": "DescriptionStyleModel",
            "_view_count": null,
            "_view_module": "@jupyter-widgets/base",
            "_view_module_version": "1.2.0",
            "_view_name": "StyleView",
            "description_width": ""
          }
        },
        "0e09ffef8a6b4ff39ce773a498556f54": {
          "model_module": "@jupyter-widgets/controls",
          "model_name": "HBoxModel",
          "model_module_version": "1.5.0",
          "state": {
            "_dom_classes": [],
            "_model_module": "@jupyter-widgets/controls",
            "_model_module_version": "1.5.0",
            "_model_name": "HBoxModel",
            "_view_count": null,
            "_view_module": "@jupyter-widgets/controls",
            "_view_module_version": "1.5.0",
            "_view_name": "HBoxView",
            "box_style": "",
            "children": [
              "IPY_MODEL_a89b7caf53f6472abc1ab8994714be5e",
              "IPY_MODEL_c9de626c14ff4821ae5643a35eee97a2",
              "IPY_MODEL_7db9e31270c44194935cd972a65f1ded"
            ],
            "layout": "IPY_MODEL_466d42da5d784b1998955ee01693aa76"
          }
        },
        "a89b7caf53f6472abc1ab8994714be5e": {
          "model_module": "@jupyter-widgets/controls",
          "model_name": "HTMLModel",
          "model_module_version": "1.5.0",
          "state": {
            "_dom_classes": [],
            "_model_module": "@jupyter-widgets/controls",
            "_model_module_version": "1.5.0",
            "_model_name": "HTMLModel",
            "_view_count": null,
            "_view_module": "@jupyter-widgets/controls",
            "_view_module_version": "1.5.0",
            "_view_name": "HTMLView",
            "description": "",
            "description_tooltip": null,
            "layout": "IPY_MODEL_d7c3f687788d4273980c6d8e283414e9",
            "placeholder": "​",
            "style": "IPY_MODEL_3fd5a6c76f604d37a1cdef0457076c56",
            "value": "100%"
          }
        },
        "c9de626c14ff4821ae5643a35eee97a2": {
          "model_module": "@jupyter-widgets/controls",
          "model_name": "FloatProgressModel",
          "model_module_version": "1.5.0",
          "state": {
            "_dom_classes": [],
            "_model_module": "@jupyter-widgets/controls",
            "_model_module_version": "1.5.0",
            "_model_name": "FloatProgressModel",
            "_view_count": null,
            "_view_module": "@jupyter-widgets/controls",
            "_view_module_version": "1.5.0",
            "_view_name": "ProgressView",
            "bar_style": "success",
            "description": "",
            "description_tooltip": null,
            "layout": "IPY_MODEL_becb15f5dc9542c7b12248efe943866e",
            "max": 5,
            "min": 0,
            "orientation": "horizontal",
            "style": "IPY_MODEL_031a1687caac4da7bc138c2f6676a646",
            "value": 5
          }
        },
        "7db9e31270c44194935cd972a65f1ded": {
          "model_module": "@jupyter-widgets/controls",
          "model_name": "HTMLModel",
          "model_module_version": "1.5.0",
          "state": {
            "_dom_classes": [],
            "_model_module": "@jupyter-widgets/controls",
            "_model_module_version": "1.5.0",
            "_model_name": "HTMLModel",
            "_view_count": null,
            "_view_module": "@jupyter-widgets/controls",
            "_view_module_version": "1.5.0",
            "_view_name": "HTMLView",
            "description": "",
            "description_tooltip": null,
            "layout": "IPY_MODEL_179043a14a4048aab5a84e25664d7b2b",
            "placeholder": "​",
            "style": "IPY_MODEL_b1aeb3e3ea694a0eaef6cc1c389f76fd",
            "value": " 5/5 [05:02&lt;00:00, 58.84s/epoch, loss=7.32, val_loss=8.29]"
          }
        },
        "466d42da5d784b1998955ee01693aa76": {
          "model_module": "@jupyter-widgets/base",
          "model_name": "LayoutModel",
          "model_module_version": "1.2.0",
          "state": {
            "_model_module": "@jupyter-widgets/base",
            "_model_module_version": "1.2.0",
            "_model_name": "LayoutModel",
            "_view_count": null,
            "_view_module": "@jupyter-widgets/base",
            "_view_module_version": "1.2.0",
            "_view_name": "LayoutView",
            "align_content": null,
            "align_items": null,
            "align_self": null,
            "border": null,
            "bottom": null,
            "display": null,
            "flex": null,
            "flex_flow": null,
            "grid_area": null,
            "grid_auto_columns": null,
            "grid_auto_flow": null,
            "grid_auto_rows": null,
            "grid_column": null,
            "grid_gap": null,
            "grid_row": null,
            "grid_template_areas": null,
            "grid_template_columns": null,
            "grid_template_rows": null,
            "height": null,
            "justify_content": null,
            "justify_items": null,
            "left": null,
            "margin": null,
            "max_height": null,
            "max_width": null,
            "min_height": null,
            "min_width": null,
            "object_fit": null,
            "object_position": null,
            "order": null,
            "overflow": null,
            "overflow_x": null,
            "overflow_y": null,
            "padding": null,
            "right": null,
            "top": null,
            "visibility": null,
            "width": null
          }
        },
        "d7c3f687788d4273980c6d8e283414e9": {
          "model_module": "@jupyter-widgets/base",
          "model_name": "LayoutModel",
          "model_module_version": "1.2.0",
          "state": {
            "_model_module": "@jupyter-widgets/base",
            "_model_module_version": "1.2.0",
            "_model_name": "LayoutModel",
            "_view_count": null,
            "_view_module": "@jupyter-widgets/base",
            "_view_module_version": "1.2.0",
            "_view_name": "LayoutView",
            "align_content": null,
            "align_items": null,
            "align_self": null,
            "border": null,
            "bottom": null,
            "display": null,
            "flex": null,
            "flex_flow": null,
            "grid_area": null,
            "grid_auto_columns": null,
            "grid_auto_flow": null,
            "grid_auto_rows": null,
            "grid_column": null,
            "grid_gap": null,
            "grid_row": null,
            "grid_template_areas": null,
            "grid_template_columns": null,
            "grid_template_rows": null,
            "height": null,
            "justify_content": null,
            "justify_items": null,
            "left": null,
            "margin": null,
            "max_height": null,
            "max_width": null,
            "min_height": null,
            "min_width": null,
            "object_fit": null,
            "object_position": null,
            "order": null,
            "overflow": null,
            "overflow_x": null,
            "overflow_y": null,
            "padding": null,
            "right": null,
            "top": null,
            "visibility": null,
            "width": null
          }
        },
        "3fd5a6c76f604d37a1cdef0457076c56": {
          "model_module": "@jupyter-widgets/controls",
          "model_name": "DescriptionStyleModel",
          "model_module_version": "1.5.0",
          "state": {
            "_model_module": "@jupyter-widgets/controls",
            "_model_module_version": "1.5.0",
            "_model_name": "DescriptionStyleModel",
            "_view_count": null,
            "_view_module": "@jupyter-widgets/base",
            "_view_module_version": "1.2.0",
            "_view_name": "StyleView",
            "description_width": ""
          }
        },
        "becb15f5dc9542c7b12248efe943866e": {
          "model_module": "@jupyter-widgets/base",
          "model_name": "LayoutModel",
          "model_module_version": "1.2.0",
          "state": {
            "_model_module": "@jupyter-widgets/base",
            "_model_module_version": "1.2.0",
            "_model_name": "LayoutModel",
            "_view_count": null,
            "_view_module": "@jupyter-widgets/base",
            "_view_module_version": "1.2.0",
            "_view_name": "LayoutView",
            "align_content": null,
            "align_items": null,
            "align_self": null,
            "border": null,
            "bottom": null,
            "display": null,
            "flex": null,
            "flex_flow": null,
            "grid_area": null,
            "grid_auto_columns": null,
            "grid_auto_flow": null,
            "grid_auto_rows": null,
            "grid_column": null,
            "grid_gap": null,
            "grid_row": null,
            "grid_template_areas": null,
            "grid_template_columns": null,
            "grid_template_rows": null,
            "height": null,
            "justify_content": null,
            "justify_items": null,
            "left": null,
            "margin": null,
            "max_height": null,
            "max_width": null,
            "min_height": null,
            "min_width": null,
            "object_fit": null,
            "object_position": null,
            "order": null,
            "overflow": null,
            "overflow_x": null,
            "overflow_y": null,
            "padding": null,
            "right": null,
            "top": null,
            "visibility": null,
            "width": null
          }
        },
        "031a1687caac4da7bc138c2f6676a646": {
          "model_module": "@jupyter-widgets/controls",
          "model_name": "ProgressStyleModel",
          "model_module_version": "1.5.0",
          "state": {
            "_model_module": "@jupyter-widgets/controls",
            "_model_module_version": "1.5.0",
            "_model_name": "ProgressStyleModel",
            "_view_count": null,
            "_view_module": "@jupyter-widgets/base",
            "_view_module_version": "1.2.0",
            "_view_name": "StyleView",
            "bar_color": null,
            "description_width": ""
          }
        },
        "179043a14a4048aab5a84e25664d7b2b": {
          "model_module": "@jupyter-widgets/base",
          "model_name": "LayoutModel",
          "model_module_version": "1.2.0",
          "state": {
            "_model_module": "@jupyter-widgets/base",
            "_model_module_version": "1.2.0",
            "_model_name": "LayoutModel",
            "_view_count": null,
            "_view_module": "@jupyter-widgets/base",
            "_view_module_version": "1.2.0",
            "_view_name": "LayoutView",
            "align_content": null,
            "align_items": null,
            "align_self": null,
            "border": null,
            "bottom": null,
            "display": null,
            "flex": null,
            "flex_flow": null,
            "grid_area": null,
            "grid_auto_columns": null,
            "grid_auto_flow": null,
            "grid_auto_rows": null,
            "grid_column": null,
            "grid_gap": null,
            "grid_row": null,
            "grid_template_areas": null,
            "grid_template_columns": null,
            "grid_template_rows": null,
            "height": null,
            "justify_content": null,
            "justify_items": null,
            "left": null,
            "margin": null,
            "max_height": null,
            "max_width": null,
            "min_height": null,
            "min_width": null,
            "object_fit": null,
            "object_position": null,
            "order": null,
            "overflow": null,
            "overflow_x": null,
            "overflow_y": null,
            "padding": null,
            "right": null,
            "top": null,
            "visibility": null,
            "width": null
          }
        },
        "b1aeb3e3ea694a0eaef6cc1c389f76fd": {
          "model_module": "@jupyter-widgets/controls",
          "model_name": "DescriptionStyleModel",
          "model_module_version": "1.5.0",
          "state": {
            "_model_module": "@jupyter-widgets/controls",
            "_model_module_version": "1.5.0",
            "_model_name": "DescriptionStyleModel",
            "_view_count": null,
            "_view_module": "@jupyter-widgets/base",
            "_view_module_version": "1.2.0",
            "_view_name": "StyleView",
            "description_width": ""
          }
        },
        "49e6767a29b24e9fbfa0616ea65e604e": {
          "model_module": "@jupyter-widgets/controls",
          "model_name": "HBoxModel",
          "model_module_version": "1.5.0",
          "state": {
            "_dom_classes": [],
            "_model_module": "@jupyter-widgets/controls",
            "_model_module_version": "1.5.0",
            "_model_name": "HBoxModel",
            "_view_count": null,
            "_view_module": "@jupyter-widgets/controls",
            "_view_module_version": "1.5.0",
            "_view_name": "HBoxView",
            "box_style": "",
            "children": [
              "IPY_MODEL_6a40f80c96fb4d1a8b5e51af62b69205",
              "IPY_MODEL_92450e21b54e4fa883cfba3f52eb1749",
              "IPY_MODEL_3555a6c7117e49ad8e13b44788fd6e4e"
            ],
            "layout": "IPY_MODEL_496b209b595947d09456cb7d6375dd13"
          }
        },
        "6a40f80c96fb4d1a8b5e51af62b69205": {
          "model_module": "@jupyter-widgets/controls",
          "model_name": "HTMLModel",
          "model_module_version": "1.5.0",
          "state": {
            "_dom_classes": [],
            "_model_module": "@jupyter-widgets/controls",
            "_model_module_version": "1.5.0",
            "_model_name": "HTMLModel",
            "_view_count": null,
            "_view_module": "@jupyter-widgets/controls",
            "_view_module_version": "1.5.0",
            "_view_name": "HTMLView",
            "description": "",
            "description_tooltip": null,
            "layout": "IPY_MODEL_c79a18bb4d1d4c0eb19089c15b005f27",
            "placeholder": "​",
            "style": "IPY_MODEL_ea9f1b43713e4435a9ec8e4542608aa1",
            "value": "100%"
          }
        },
        "92450e21b54e4fa883cfba3f52eb1749": {
          "model_module": "@jupyter-widgets/controls",
          "model_name": "FloatProgressModel",
          "model_module_version": "1.5.0",
          "state": {
            "_dom_classes": [],
            "_model_module": "@jupyter-widgets/controls",
            "_model_module_version": "1.5.0",
            "_model_name": "FloatProgressModel",
            "_view_count": null,
            "_view_module": "@jupyter-widgets/controls",
            "_view_module_version": "1.5.0",
            "_view_name": "ProgressView",
            "bar_style": "",
            "description": "",
            "description_tooltip": null,
            "layout": "IPY_MODEL_fdc1306d36eb47249c8844675c53bc35",
            "max": 2019,
            "min": 0,
            "orientation": "horizontal",
            "style": "IPY_MODEL_defc90dba74f42ef8d96b55253764091",
            "value": 2019
          }
        },
        "3555a6c7117e49ad8e13b44788fd6e4e": {
          "model_module": "@jupyter-widgets/controls",
          "model_name": "HTMLModel",
          "model_module_version": "1.5.0",
          "state": {
            "_dom_classes": [],
            "_model_module": "@jupyter-widgets/controls",
            "_model_module_version": "1.5.0",
            "_model_name": "HTMLModel",
            "_view_count": null,
            "_view_module": "@jupyter-widgets/controls",
            "_view_module_version": "1.5.0",
            "_view_name": "HTMLView",
            "description": "",
            "description_tooltip": null,
            "layout": "IPY_MODEL_1984edd21c084f5db113a842f46af05d",
            "placeholder": "​",
            "style": "IPY_MODEL_64b288b9391344d18d6b6a6123865425",
            "value": " 2.02k/2.02k [00:42&lt;00:00, 46.8batch/s, loss=7.32]"
          }
        },
        "496b209b595947d09456cb7d6375dd13": {
          "model_module": "@jupyter-widgets/base",
          "model_name": "LayoutModel",
          "model_module_version": "1.2.0",
          "state": {
            "_model_module": "@jupyter-widgets/base",
            "_model_module_version": "1.2.0",
            "_model_name": "LayoutModel",
            "_view_count": null,
            "_view_module": "@jupyter-widgets/base",
            "_view_module_version": "1.2.0",
            "_view_name": "LayoutView",
            "align_content": null,
            "align_items": null,
            "align_self": null,
            "border": null,
            "bottom": null,
            "display": null,
            "flex": null,
            "flex_flow": null,
            "grid_area": null,
            "grid_auto_columns": null,
            "grid_auto_flow": null,
            "grid_auto_rows": null,
            "grid_column": null,
            "grid_gap": null,
            "grid_row": null,
            "grid_template_areas": null,
            "grid_template_columns": null,
            "grid_template_rows": null,
            "height": null,
            "justify_content": null,
            "justify_items": null,
            "left": null,
            "margin": null,
            "max_height": null,
            "max_width": null,
            "min_height": null,
            "min_width": null,
            "object_fit": null,
            "object_position": null,
            "order": null,
            "overflow": null,
            "overflow_x": null,
            "overflow_y": null,
            "padding": null,
            "right": null,
            "top": null,
            "visibility": "hidden",
            "width": null
          }
        },
        "c79a18bb4d1d4c0eb19089c15b005f27": {
          "model_module": "@jupyter-widgets/base",
          "model_name": "LayoutModel",
          "model_module_version": "1.2.0",
          "state": {
            "_model_module": "@jupyter-widgets/base",
            "_model_module_version": "1.2.0",
            "_model_name": "LayoutModel",
            "_view_count": null,
            "_view_module": "@jupyter-widgets/base",
            "_view_module_version": "1.2.0",
            "_view_name": "LayoutView",
            "align_content": null,
            "align_items": null,
            "align_self": null,
            "border": null,
            "bottom": null,
            "display": null,
            "flex": null,
            "flex_flow": null,
            "grid_area": null,
            "grid_auto_columns": null,
            "grid_auto_flow": null,
            "grid_auto_rows": null,
            "grid_column": null,
            "grid_gap": null,
            "grid_row": null,
            "grid_template_areas": null,
            "grid_template_columns": null,
            "grid_template_rows": null,
            "height": null,
            "justify_content": null,
            "justify_items": null,
            "left": null,
            "margin": null,
            "max_height": null,
            "max_width": null,
            "min_height": null,
            "min_width": null,
            "object_fit": null,
            "object_position": null,
            "order": null,
            "overflow": null,
            "overflow_x": null,
            "overflow_y": null,
            "padding": null,
            "right": null,
            "top": null,
            "visibility": null,
            "width": null
          }
        },
        "ea9f1b43713e4435a9ec8e4542608aa1": {
          "model_module": "@jupyter-widgets/controls",
          "model_name": "DescriptionStyleModel",
          "model_module_version": "1.5.0",
          "state": {
            "_model_module": "@jupyter-widgets/controls",
            "_model_module_version": "1.5.0",
            "_model_name": "DescriptionStyleModel",
            "_view_count": null,
            "_view_module": "@jupyter-widgets/base",
            "_view_module_version": "1.2.0",
            "_view_name": "StyleView",
            "description_width": ""
          }
        },
        "fdc1306d36eb47249c8844675c53bc35": {
          "model_module": "@jupyter-widgets/base",
          "model_name": "LayoutModel",
          "model_module_version": "1.2.0",
          "state": {
            "_model_module": "@jupyter-widgets/base",
            "_model_module_version": "1.2.0",
            "_model_name": "LayoutModel",
            "_view_count": null,
            "_view_module": "@jupyter-widgets/base",
            "_view_module_version": "1.2.0",
            "_view_name": "LayoutView",
            "align_content": null,
            "align_items": null,
            "align_self": null,
            "border": null,
            "bottom": null,
            "display": null,
            "flex": null,
            "flex_flow": null,
            "grid_area": null,
            "grid_auto_columns": null,
            "grid_auto_flow": null,
            "grid_auto_rows": null,
            "grid_column": null,
            "grid_gap": null,
            "grid_row": null,
            "grid_template_areas": null,
            "grid_template_columns": null,
            "grid_template_rows": null,
            "height": null,
            "justify_content": null,
            "justify_items": null,
            "left": null,
            "margin": null,
            "max_height": null,
            "max_width": null,
            "min_height": null,
            "min_width": null,
            "object_fit": null,
            "object_position": null,
            "order": null,
            "overflow": null,
            "overflow_x": null,
            "overflow_y": null,
            "padding": null,
            "right": null,
            "top": null,
            "visibility": null,
            "width": null
          }
        },
        "defc90dba74f42ef8d96b55253764091": {
          "model_module": "@jupyter-widgets/controls",
          "model_name": "ProgressStyleModel",
          "model_module_version": "1.5.0",
          "state": {
            "_model_module": "@jupyter-widgets/controls",
            "_model_module_version": "1.5.0",
            "_model_name": "ProgressStyleModel",
            "_view_count": null,
            "_view_module": "@jupyter-widgets/base",
            "_view_module_version": "1.2.0",
            "_view_name": "StyleView",
            "bar_color": null,
            "description_width": ""
          }
        },
        "1984edd21c084f5db113a842f46af05d": {
          "model_module": "@jupyter-widgets/base",
          "model_name": "LayoutModel",
          "model_module_version": "1.2.0",
          "state": {
            "_model_module": "@jupyter-widgets/base",
            "_model_module_version": "1.2.0",
            "_model_name": "LayoutModel",
            "_view_count": null,
            "_view_module": "@jupyter-widgets/base",
            "_view_module_version": "1.2.0",
            "_view_name": "LayoutView",
            "align_content": null,
            "align_items": null,
            "align_self": null,
            "border": null,
            "bottom": null,
            "display": null,
            "flex": null,
            "flex_flow": null,
            "grid_area": null,
            "grid_auto_columns": null,
            "grid_auto_flow": null,
            "grid_auto_rows": null,
            "grid_column": null,
            "grid_gap": null,
            "grid_row": null,
            "grid_template_areas": null,
            "grid_template_columns": null,
            "grid_template_rows": null,
            "height": null,
            "justify_content": null,
            "justify_items": null,
            "left": null,
            "margin": null,
            "max_height": null,
            "max_width": null,
            "min_height": null,
            "min_width": null,
            "object_fit": null,
            "object_position": null,
            "order": null,
            "overflow": null,
            "overflow_x": null,
            "overflow_y": null,
            "padding": null,
            "right": null,
            "top": null,
            "visibility": null,
            "width": null
          }
        },
        "64b288b9391344d18d6b6a6123865425": {
          "model_module": "@jupyter-widgets/controls",
          "model_name": "DescriptionStyleModel",
          "model_module_version": "1.5.0",
          "state": {
            "_model_module": "@jupyter-widgets/controls",
            "_model_module_version": "1.5.0",
            "_model_name": "DescriptionStyleModel",
            "_view_count": null,
            "_view_module": "@jupyter-widgets/base",
            "_view_module_version": "1.2.0",
            "_view_name": "StyleView",
            "description_width": ""
          }
        }
      }
    }
  },
  "nbformat": 4,
  "nbformat_minor": 5
}